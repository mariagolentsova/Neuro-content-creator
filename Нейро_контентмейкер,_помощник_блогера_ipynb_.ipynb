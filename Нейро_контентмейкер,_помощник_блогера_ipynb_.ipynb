{
  "nbformat": 4,
  "nbformat_minor": 0,
  "metadata": {
    "colab": {
      "provenance": []
    },
    "kernelspec": {
      "name": "python3",
      "display_name": "Python 3"
    },
    "language_info": {
      "name": "python"
    }
  },
  "cells": [
    {
      "cell_type": "markdown",
      "source": [
        "# Нейро-контентмейкер, помощник блогера | эксперта"
      ],
      "metadata": {
        "id": "wt-vWdnyIJ0U"
      }
    },
    {
      "cell_type": "markdown",
      "source": [
        "## **Задача:**\n",
        "Создать нейро-контентмейкера для генерации новых тем, контент-плана, постов, сценариев и других текстовых материалов в заданном стиле. Стиль переносится из постов блогера.\n",
        "\n",
        "**Источник**:\n",
        "Посты блогера, заранее подготовленные инструкции, собственная база знаний gpt моделей.\n",
        "\n",
        "**Цель**:\n",
        "*   Генерация контент-плана на 7 дней\n",
        "*   Посты и сценарии для видео по заданной теме в стиле блогера\n",
        "\n",
        "**Содержание работ**:\n",
        "\n",
        "*   *Разработка алгоритма*:\n",
        " - выявление характеристик и получения стиля блогера.\n",
        " - создание контент-плана\n",
        " - создание постов и сценариев на основании подготовленного контент-плана\n",
        "*   *Тестирование в процессе разработки*:\n",
        " - оценка характеристик стиля\n",
        " - оценка контент-плана\n",
        " - оценка постов и сценариев\n",
        "\n",
        "**Ожидаемые результаты**:\n",
        "Нейро-контентмейкер, генерирующий контент-план, посты и сценарии видео по заданной теме в стиле автора.\n"
      ],
      "metadata": {
        "id": "5PbDngJPJY83"
      }
    },
    {
      "cell_type": "markdown",
      "source": [
        "## Готовим окружение\n",
        "Устанавливаем пакеты.\n",
        "Подключаем библиотеки.\n",
        "Задаем ключ API (openAI).\n",
        "Задаем константы."
      ],
      "metadata": {
        "id": "e66RRZBYpF3R"
      }
    },
    {
      "cell_type": "code",
      "source": [
        "#@title Устанавливаем пакеты\n",
        "!pip install langchain langchain_community langchain-openai openai tiktoken faiss-cpu"
      ],
      "metadata": {
        "colab": {
          "base_uri": "https://localhost:8080/"
        },
        "id": "mt1kzuSLWgQz",
        "outputId": "6599ffa4-c098-4f21-bea8-3e179098b408",
        "collapsed": true
      },
      "execution_count": null,
      "outputs": [
        {
          "output_type": "stream",
          "name": "stdout",
          "text": [
            "Requirement already satisfied: langchain in /usr/local/lib/python3.11/dist-packages (0.3.22)\n",
            "Collecting langchain_community\n",
            "  Downloading langchain_community-0.3.21-py3-none-any.whl.metadata (2.4 kB)\n",
            "Collecting langchain-openai\n",
            "  Downloading langchain_openai-0.3.12-py3-none-any.whl.metadata (2.3 kB)\n",
            "Requirement already satisfied: openai in /usr/local/lib/python3.11/dist-packages (1.70.0)\n",
            "Collecting tiktoken\n",
            "  Downloading tiktoken-0.9.0-cp311-cp311-manylinux_2_17_x86_64.manylinux2014_x86_64.whl.metadata (6.7 kB)\n",
            "Collecting faiss-cpu\n",
            "  Downloading faiss_cpu-1.10.0-cp311-cp311-manylinux_2_28_x86_64.whl.metadata (4.4 kB)\n",
            "Requirement already satisfied: langchain-core<1.0.0,>=0.3.49 in /usr/local/lib/python3.11/dist-packages (from langchain) (0.3.50)\n",
            "Requirement already satisfied: langchain-text-splitters<1.0.0,>=0.3.7 in /usr/local/lib/python3.11/dist-packages (from langchain) (0.3.7)\n",
            "Requirement already satisfied: langsmith<0.4,>=0.1.17 in /usr/local/lib/python3.11/dist-packages (from langchain) (0.3.23)\n",
            "Requirement already satisfied: pydantic<3.0.0,>=2.7.4 in /usr/local/lib/python3.11/dist-packages (from langchain) (2.11.2)\n",
            "Requirement already satisfied: SQLAlchemy<3,>=1.4 in /usr/local/lib/python3.11/dist-packages (from langchain) (2.0.40)\n",
            "Requirement already satisfied: requests<3,>=2 in /usr/local/lib/python3.11/dist-packages (from langchain) (2.32.3)\n",
            "Requirement already satisfied: PyYAML>=5.3 in /usr/local/lib/python3.11/dist-packages (from langchain) (6.0.2)\n",
            "Collecting langchain-core<1.0.0,>=0.3.49 (from langchain)\n",
            "  Downloading langchain_core-0.3.51-py3-none-any.whl.metadata (5.9 kB)\n",
            "Collecting langchain\n",
            "  Downloading langchain-0.3.23-py3-none-any.whl.metadata (7.8 kB)\n",
            "Requirement already satisfied: aiohttp<4.0.0,>=3.8.3 in /usr/local/lib/python3.11/dist-packages (from langchain_community) (3.11.15)\n",
            "Requirement already satisfied: tenacity!=8.4.0,<10,>=8.1.0 in /usr/local/lib/python3.11/dist-packages (from langchain_community) (9.1.2)\n",
            "Collecting dataclasses-json<0.7,>=0.5.7 (from langchain_community)\n",
            "  Downloading dataclasses_json-0.6.7-py3-none-any.whl.metadata (25 kB)\n",
            "Collecting pydantic-settings<3.0.0,>=2.4.0 (from langchain_community)\n",
            "  Downloading pydantic_settings-2.8.1-py3-none-any.whl.metadata (3.5 kB)\n",
            "Collecting httpx-sse<1.0.0,>=0.4.0 (from langchain_community)\n",
            "  Downloading httpx_sse-0.4.0-py3-none-any.whl.metadata (9.0 kB)\n",
            "Requirement already satisfied: numpy<3,>=1.26.2 in /usr/local/lib/python3.11/dist-packages (from langchain_community) (2.0.2)\n",
            "Collecting langchain-text-splitters<1.0.0,>=0.3.8 (from langchain)\n",
            "  Downloading langchain_text_splitters-0.3.8-py3-none-any.whl.metadata (1.9 kB)\n",
            "Requirement already satisfied: anyio<5,>=3.5.0 in /usr/local/lib/python3.11/dist-packages (from openai) (4.9.0)\n",
            "Requirement already satisfied: distro<2,>=1.7.0 in /usr/local/lib/python3.11/dist-packages (from openai) (1.9.0)\n",
            "Requirement already satisfied: httpx<1,>=0.23.0 in /usr/local/lib/python3.11/dist-packages (from openai) (0.28.1)\n",
            "Requirement already satisfied: jiter<1,>=0.4.0 in /usr/local/lib/python3.11/dist-packages (from openai) (0.9.0)\n",
            "Requirement already satisfied: sniffio in /usr/local/lib/python3.11/dist-packages (from openai) (1.3.1)\n",
            "Requirement already satisfied: tqdm>4 in /usr/local/lib/python3.11/dist-packages (from openai) (4.67.1)\n",
            "Requirement already satisfied: typing-extensions<5,>=4.11 in /usr/local/lib/python3.11/dist-packages (from openai) (4.13.1)\n",
            "Requirement already satisfied: regex>=2022.1.18 in /usr/local/lib/python3.11/dist-packages (from tiktoken) (2024.11.6)\n",
            "Requirement already satisfied: packaging in /usr/local/lib/python3.11/dist-packages (from faiss-cpu) (24.2)\n",
            "Requirement already satisfied: aiohappyeyeballs>=2.3.0 in /usr/local/lib/python3.11/dist-packages (from aiohttp<4.0.0,>=3.8.3->langchain_community) (2.6.1)\n",
            "Requirement already satisfied: aiosignal>=1.1.2 in /usr/local/lib/python3.11/dist-packages (from aiohttp<4.0.0,>=3.8.3->langchain_community) (1.3.2)\n",
            "Requirement already satisfied: attrs>=17.3.0 in /usr/local/lib/python3.11/dist-packages (from aiohttp<4.0.0,>=3.8.3->langchain_community) (25.3.0)\n",
            "Requirement already satisfied: frozenlist>=1.1.1 in /usr/local/lib/python3.11/dist-packages (from aiohttp<4.0.0,>=3.8.3->langchain_community) (1.5.0)\n",
            "Requirement already satisfied: multidict<7.0,>=4.5 in /usr/local/lib/python3.11/dist-packages (from aiohttp<4.0.0,>=3.8.3->langchain_community) (6.2.0)\n",
            "Requirement already satisfied: propcache>=0.2.0 in /usr/local/lib/python3.11/dist-packages (from aiohttp<4.0.0,>=3.8.3->langchain_community) (0.3.1)\n",
            "Requirement already satisfied: yarl<2.0,>=1.17.0 in /usr/local/lib/python3.11/dist-packages (from aiohttp<4.0.0,>=3.8.3->langchain_community) (1.18.3)\n",
            "Requirement already satisfied: idna>=2.8 in /usr/local/lib/python3.11/dist-packages (from anyio<5,>=3.5.0->openai) (3.10)\n",
            "Collecting marshmallow<4.0.0,>=3.18.0 (from dataclasses-json<0.7,>=0.5.7->langchain_community)\n",
            "  Downloading marshmallow-3.26.1-py3-none-any.whl.metadata (7.3 kB)\n",
            "Collecting typing-inspect<1,>=0.4.0 (from dataclasses-json<0.7,>=0.5.7->langchain_community)\n",
            "  Downloading typing_inspect-0.9.0-py3-none-any.whl.metadata (1.5 kB)\n",
            "Requirement already satisfied: certifi in /usr/local/lib/python3.11/dist-packages (from httpx<1,>=0.23.0->openai) (2025.1.31)\n",
            "Requirement already satisfied: httpcore==1.* in /usr/local/lib/python3.11/dist-packages (from httpx<1,>=0.23.0->openai) (1.0.7)\n",
            "Requirement already satisfied: h11<0.15,>=0.13 in /usr/local/lib/python3.11/dist-packages (from httpcore==1.*->httpx<1,>=0.23.0->openai) (0.14.0)\n",
            "Requirement already satisfied: jsonpatch<2.0,>=1.33 in /usr/local/lib/python3.11/dist-packages (from langchain-core<1.0.0,>=0.3.49->langchain) (1.33)\n",
            "Requirement already satisfied: orjson<4.0.0,>=3.9.14 in /usr/local/lib/python3.11/dist-packages (from langsmith<0.4,>=0.1.17->langchain) (3.10.16)\n",
            "Requirement already satisfied: requests-toolbelt<2.0.0,>=1.0.0 in /usr/local/lib/python3.11/dist-packages (from langsmith<0.4,>=0.1.17->langchain) (1.0.0)\n",
            "Requirement already satisfied: zstandard<0.24.0,>=0.23.0 in /usr/local/lib/python3.11/dist-packages (from langsmith<0.4,>=0.1.17->langchain) (0.23.0)\n",
            "Requirement already satisfied: annotated-types>=0.6.0 in /usr/local/lib/python3.11/dist-packages (from pydantic<3.0.0,>=2.7.4->langchain) (0.7.0)\n",
            "Requirement already satisfied: pydantic-core==2.33.1 in /usr/local/lib/python3.11/dist-packages (from pydantic<3.0.0,>=2.7.4->langchain) (2.33.1)\n",
            "Requirement already satisfied: typing-inspection>=0.4.0 in /usr/local/lib/python3.11/dist-packages (from pydantic<3.0.0,>=2.7.4->langchain) (0.4.0)\n",
            "Collecting python-dotenv>=0.21.0 (from pydantic-settings<3.0.0,>=2.4.0->langchain_community)\n",
            "  Downloading python_dotenv-1.1.0-py3-none-any.whl.metadata (24 kB)\n",
            "Requirement already satisfied: charset-normalizer<4,>=2 in /usr/local/lib/python3.11/dist-packages (from requests<3,>=2->langchain) (3.4.1)\n",
            "Requirement already satisfied: urllib3<3,>=1.21.1 in /usr/local/lib/python3.11/dist-packages (from requests<3,>=2->langchain) (2.3.0)\n",
            "Requirement already satisfied: greenlet>=1 in /usr/local/lib/python3.11/dist-packages (from SQLAlchemy<3,>=1.4->langchain) (3.1.1)\n",
            "Requirement already satisfied: jsonpointer>=1.9 in /usr/local/lib/python3.11/dist-packages (from jsonpatch<2.0,>=1.33->langchain-core<1.0.0,>=0.3.49->langchain) (3.0.0)\n",
            "Collecting mypy-extensions>=0.3.0 (from typing-inspect<1,>=0.4.0->dataclasses-json<0.7,>=0.5.7->langchain_community)\n",
            "  Downloading mypy_extensions-1.0.0-py3-none-any.whl.metadata (1.1 kB)\n",
            "Downloading langchain_community-0.3.21-py3-none-any.whl (2.5 MB)\n",
            "\u001b[2K   \u001b[90m━━━━━━━━━━━━━━━━━━━━━━━━━━━━━━━━━━━━━━━━\u001b[0m \u001b[32m2.5/2.5 MB\u001b[0m \u001b[31m18.2 MB/s\u001b[0m eta \u001b[36m0:00:00\u001b[0m\n",
            "\u001b[?25hDownloading langchain-0.3.23-py3-none-any.whl (1.0 MB)\n",
            "\u001b[2K   \u001b[90m━━━━━━━━━━━━━━━━━━━━━━━━━━━━━━━━━━━━━━━━\u001b[0m \u001b[32m1.0/1.0 MB\u001b[0m \u001b[31m15.5 MB/s\u001b[0m eta \u001b[36m0:00:00\u001b[0m\n",
            "\u001b[?25hDownloading langchain_openai-0.3.12-py3-none-any.whl (61 kB)\n",
            "\u001b[2K   \u001b[90m━━━━━━━━━━━━━━━━━━━━━━━━━━━━━━━━━━━━━━━━\u001b[0m \u001b[32m61.3/61.3 kB\u001b[0m \u001b[31m2.9 MB/s\u001b[0m eta \u001b[36m0:00:00\u001b[0m\n",
            "\u001b[?25hDownloading tiktoken-0.9.0-cp311-cp311-manylinux_2_17_x86_64.manylinux2014_x86_64.whl (1.2 MB)\n",
            "\u001b[2K   \u001b[90m━━━━━━━━━━━━━━━━━━━━━━━━━━━━━━━━━━━━━━━━\u001b[0m \u001b[32m1.2/1.2 MB\u001b[0m \u001b[31m11.4 MB/s\u001b[0m eta \u001b[36m0:00:00\u001b[0m\n",
            "\u001b[?25hDownloading faiss_cpu-1.10.0-cp311-cp311-manylinux_2_28_x86_64.whl (30.7 MB)\n",
            "\u001b[2K   \u001b[90m━━━━━━━━━━━━━━━━━━━━━━━━━━━━━━━━━━━━━━━━\u001b[0m \u001b[32m30.7/30.7 MB\u001b[0m \u001b[31m15.0 MB/s\u001b[0m eta \u001b[36m0:00:00\u001b[0m\n",
            "\u001b[?25hDownloading dataclasses_json-0.6.7-py3-none-any.whl (28 kB)\n",
            "Downloading httpx_sse-0.4.0-py3-none-any.whl (7.8 kB)\n",
            "Downloading langchain_core-0.3.51-py3-none-any.whl (423 kB)\n",
            "\u001b[2K   \u001b[90m━━━━━━━━━━━━━━━━━━━━━━━━━━━━━━━━━━━━━━━━\u001b[0m \u001b[32m423.3/423.3 kB\u001b[0m \u001b[31m6.9 MB/s\u001b[0m eta \u001b[36m0:00:00\u001b[0m\n",
            "\u001b[?25hDownloading langchain_text_splitters-0.3.8-py3-none-any.whl (32 kB)\n",
            "Downloading pydantic_settings-2.8.1-py3-none-any.whl (30 kB)\n",
            "Downloading marshmallow-3.26.1-py3-none-any.whl (50 kB)\n",
            "\u001b[2K   \u001b[90m━━━━━━━━━━━━━━━━━━━━━━━━━━━━━━━━━━━━━━━━\u001b[0m \u001b[32m50.9/50.9 kB\u001b[0m \u001b[31m2.0 MB/s\u001b[0m eta \u001b[36m0:00:00\u001b[0m\n",
            "\u001b[?25hDownloading python_dotenv-1.1.0-py3-none-any.whl (20 kB)\n",
            "Downloading typing_inspect-0.9.0-py3-none-any.whl (8.8 kB)\n",
            "Downloading mypy_extensions-1.0.0-py3-none-any.whl (4.7 kB)\n",
            "Installing collected packages: python-dotenv, mypy-extensions, marshmallow, httpx-sse, faiss-cpu, typing-inspect, tiktoken, pydantic-settings, dataclasses-json, langchain-core, langchain-text-splitters, langchain-openai, langchain, langchain_community\n",
            "  Attempting uninstall: langchain-core\n",
            "    Found existing installation: langchain-core 0.3.50\n",
            "    Uninstalling langchain-core-0.3.50:\n",
            "      Successfully uninstalled langchain-core-0.3.50\n",
            "  Attempting uninstall: langchain-text-splitters\n",
            "    Found existing installation: langchain-text-splitters 0.3.7\n",
            "    Uninstalling langchain-text-splitters-0.3.7:\n",
            "      Successfully uninstalled langchain-text-splitters-0.3.7\n",
            "  Attempting uninstall: langchain\n",
            "    Found existing installation: langchain 0.3.22\n",
            "    Uninstalling langchain-0.3.22:\n",
            "      Successfully uninstalled langchain-0.3.22\n",
            "Successfully installed dataclasses-json-0.6.7 faiss-cpu-1.10.0 httpx-sse-0.4.0 langchain-0.3.23 langchain-core-0.3.51 langchain-openai-0.3.12 langchain-text-splitters-0.3.8 langchain_community-0.3.21 marshmallow-3.26.1 mypy-extensions-1.0.0 pydantic-settings-2.8.1 python-dotenv-1.1.0 tiktoken-0.9.0 typing-inspect-0.9.0\n",
            "Requirement already satisfied: gspread in /usr/local/lib/python3.11/dist-packages (6.2.0)\n",
            "Requirement already satisfied: google-auth>=1.12.0 in /usr/local/lib/python3.11/dist-packages (from gspread) (2.38.0)\n",
            "Requirement already satisfied: google-auth-oauthlib>=0.4.1 in /usr/local/lib/python3.11/dist-packages (from gspread) (1.2.1)\n",
            "Requirement already satisfied: cachetools<6.0,>=2.0.0 in /usr/local/lib/python3.11/dist-packages (from google-auth>=1.12.0->gspread) (5.5.2)\n",
            "Requirement already satisfied: pyasn1-modules>=0.2.1 in /usr/local/lib/python3.11/dist-packages (from google-auth>=1.12.0->gspread) (0.4.2)\n",
            "Requirement already satisfied: rsa<5,>=3.1.4 in /usr/local/lib/python3.11/dist-packages (from google-auth>=1.12.0->gspread) (4.9)\n",
            "Requirement already satisfied: requests-oauthlib>=0.7.0 in /usr/local/lib/python3.11/dist-packages (from google-auth-oauthlib>=0.4.1->gspread) (2.0.0)\n",
            "Requirement already satisfied: pyasn1<0.7.0,>=0.6.1 in /usr/local/lib/python3.11/dist-packages (from pyasn1-modules>=0.2.1->google-auth>=1.12.0->gspread) (0.6.1)\n",
            "Requirement already satisfied: oauthlib>=3.0.0 in /usr/local/lib/python3.11/dist-packages (from requests-oauthlib>=0.7.0->google-auth-oauthlib>=0.4.1->gspread) (3.2.2)\n",
            "Requirement already satisfied: requests>=2.0.0 in /usr/local/lib/python3.11/dist-packages (from requests-oauthlib>=0.7.0->google-auth-oauthlib>=0.4.1->gspread) (2.32.3)\n",
            "Requirement already satisfied: charset-normalizer<4,>=2 in /usr/local/lib/python3.11/dist-packages (from requests>=2.0.0->requests-oauthlib>=0.7.0->google-auth-oauthlib>=0.4.1->gspread) (3.4.1)\n",
            "Requirement already satisfied: idna<4,>=2.5 in /usr/local/lib/python3.11/dist-packages (from requests>=2.0.0->requests-oauthlib>=0.7.0->google-auth-oauthlib>=0.4.1->gspread) (3.10)\n",
            "Requirement already satisfied: urllib3<3,>=1.21.1 in /usr/local/lib/python3.11/dist-packages (from requests>=2.0.0->requests-oauthlib>=0.7.0->google-auth-oauthlib>=0.4.1->gspread) (2.3.0)\n",
            "Requirement already satisfied: certifi>=2017.4.17 in /usr/local/lib/python3.11/dist-packages (from requests>=2.0.0->requests-oauthlib>=0.7.0->google-auth-oauthlib>=0.4.1->gspread) (2025.1.31)\n",
            "Requirement already satisfied: numpy in /usr/local/lib/python3.11/dist-packages (2.0.2)\n",
            "Requirement already satisfied: tensorflow in /usr/local/lib/python3.11/dist-packages (2.18.0)\n",
            "Requirement already satisfied: keras in /usr/local/lib/python3.11/dist-packages (3.8.0)\n",
            "Requirement already satisfied: absl-py>=1.0.0 in /usr/local/lib/python3.11/dist-packages (from tensorflow) (1.4.0)\n",
            "Requirement already satisfied: astunparse>=1.6.0 in /usr/local/lib/python3.11/dist-packages (from tensorflow) (1.6.3)\n",
            "Requirement already satisfied: flatbuffers>=24.3.25 in /usr/local/lib/python3.11/dist-packages (from tensorflow) (25.2.10)\n",
            "Requirement already satisfied: gast!=0.5.0,!=0.5.1,!=0.5.2,>=0.2.1 in /usr/local/lib/python3.11/dist-packages (from tensorflow) (0.6.0)\n",
            "Requirement already satisfied: google-pasta>=0.1.1 in /usr/local/lib/python3.11/dist-packages (from tensorflow) (0.2.0)\n",
            "Requirement already satisfied: libclang>=13.0.0 in /usr/local/lib/python3.11/dist-packages (from tensorflow) (18.1.1)\n",
            "Requirement already satisfied: opt-einsum>=2.3.2 in /usr/local/lib/python3.11/dist-packages (from tensorflow) (3.4.0)\n",
            "Requirement already satisfied: packaging in /usr/local/lib/python3.11/dist-packages (from tensorflow) (24.2)\n",
            "Requirement already satisfied: protobuf!=4.21.0,!=4.21.1,!=4.21.2,!=4.21.3,!=4.21.4,!=4.21.5,<6.0.0dev,>=3.20.3 in /usr/local/lib/python3.11/dist-packages (from tensorflow) (5.29.4)\n",
            "Requirement already satisfied: requests<3,>=2.21.0 in /usr/local/lib/python3.11/dist-packages (from tensorflow) (2.32.3)\n",
            "Requirement already satisfied: setuptools in /usr/local/lib/python3.11/dist-packages (from tensorflow) (75.2.0)\n",
            "Requirement already satisfied: six>=1.12.0 in /usr/local/lib/python3.11/dist-packages (from tensorflow) (1.17.0)\n",
            "Requirement already satisfied: termcolor>=1.1.0 in /usr/local/lib/python3.11/dist-packages (from tensorflow) (3.0.1)\n",
            "Requirement already satisfied: typing-extensions>=3.6.6 in /usr/local/lib/python3.11/dist-packages (from tensorflow) (4.13.1)\n",
            "Requirement already satisfied: wrapt>=1.11.0 in /usr/local/lib/python3.11/dist-packages (from tensorflow) (1.17.2)\n",
            "Requirement already satisfied: grpcio<2.0,>=1.24.3 in /usr/local/lib/python3.11/dist-packages (from tensorflow) (1.71.0)\n",
            "Requirement already satisfied: tensorboard<2.19,>=2.18 in /usr/local/lib/python3.11/dist-packages (from tensorflow) (2.18.0)\n",
            "Requirement already satisfied: h5py>=3.11.0 in /usr/local/lib/python3.11/dist-packages (from tensorflow) (3.13.0)\n",
            "Requirement already satisfied: ml-dtypes<0.5.0,>=0.4.0 in /usr/local/lib/python3.11/dist-packages (from tensorflow) (0.4.1)\n",
            "Requirement already satisfied: tensorflow-io-gcs-filesystem>=0.23.1 in /usr/local/lib/python3.11/dist-packages (from tensorflow) (0.37.1)\n",
            "Requirement already satisfied: rich in /usr/local/lib/python3.11/dist-packages (from keras) (13.9.4)\n",
            "Requirement already satisfied: namex in /usr/local/lib/python3.11/dist-packages (from keras) (0.0.8)\n",
            "Requirement already satisfied: optree in /usr/local/lib/python3.11/dist-packages (from keras) (0.14.1)\n",
            "Requirement already satisfied: wheel<1.0,>=0.23.0 in /usr/local/lib/python3.11/dist-packages (from astunparse>=1.6.0->tensorflow) (0.45.1)\n",
            "Requirement already satisfied: charset-normalizer<4,>=2 in /usr/local/lib/python3.11/dist-packages (from requests<3,>=2.21.0->tensorflow) (3.4.1)\n",
            "Requirement already satisfied: idna<4,>=2.5 in /usr/local/lib/python3.11/dist-packages (from requests<3,>=2.21.0->tensorflow) (3.10)\n",
            "Requirement already satisfied: urllib3<3,>=1.21.1 in /usr/local/lib/python3.11/dist-packages (from requests<3,>=2.21.0->tensorflow) (2.3.0)\n",
            "Requirement already satisfied: certifi>=2017.4.17 in /usr/local/lib/python3.11/dist-packages (from requests<3,>=2.21.0->tensorflow) (2025.1.31)\n",
            "Requirement already satisfied: markdown>=2.6.8 in /usr/local/lib/python3.11/dist-packages (from tensorboard<2.19,>=2.18->tensorflow) (3.7)\n",
            "Requirement already satisfied: tensorboard-data-server<0.8.0,>=0.7.0 in /usr/local/lib/python3.11/dist-packages (from tensorboard<2.19,>=2.18->tensorflow) (0.7.2)\n",
            "Requirement already satisfied: werkzeug>=1.0.1 in /usr/local/lib/python3.11/dist-packages (from tensorboard<2.19,>=2.18->tensorflow) (3.1.3)\n",
            "Requirement already satisfied: markdown-it-py>=2.2.0 in /usr/local/lib/python3.11/dist-packages (from rich->keras) (3.0.0)\n",
            "Requirement already satisfied: pygments<3.0.0,>=2.13.0 in /usr/local/lib/python3.11/dist-packages (from rich->keras) (2.18.0)\n",
            "Requirement already satisfied: mdurl~=0.1 in /usr/local/lib/python3.11/dist-packages (from markdown-it-py>=2.2.0->rich->keras) (0.1.2)\n",
            "Requirement already satisfied: MarkupSafe>=2.1.1 in /usr/local/lib/python3.11/dist-packages (from werkzeug>=1.0.1->tensorboard<2.19,>=2.18->tensorflow) (3.0.2)\n",
            "Collecting pymorphy2\n",
            "  Downloading pymorphy2-0.9.1-py3-none-any.whl.metadata (3.6 kB)\n",
            "Collecting dawg-python>=0.7.1 (from pymorphy2)\n",
            "  Downloading DAWG_Python-0.7.2-py2.py3-none-any.whl.metadata (7.0 kB)\n",
            "Collecting pymorphy2-dicts-ru<3.0,>=2.4 (from pymorphy2)\n",
            "  Downloading pymorphy2_dicts_ru-2.4.417127.4579844-py2.py3-none-any.whl.metadata (2.1 kB)\n",
            "Collecting docopt>=0.6 (from pymorphy2)\n",
            "  Downloading docopt-0.6.2.tar.gz (25 kB)\n",
            "  Preparing metadata (setup.py) ... \u001b[?25l\u001b[?25hdone\n",
            "Downloading pymorphy2-0.9.1-py3-none-any.whl (55 kB)\n",
            "\u001b[2K   \u001b[90m━━━━━━━━━━━━━━━━━━━━━━━━━━━━━━━━━━━━━━━━\u001b[0m \u001b[32m55.5/55.5 kB\u001b[0m \u001b[31m2.8 MB/s\u001b[0m eta \u001b[36m0:00:00\u001b[0m\n",
            "\u001b[?25hDownloading DAWG_Python-0.7.2-py2.py3-none-any.whl (11 kB)\n",
            "Downloading pymorphy2_dicts_ru-2.4.417127.4579844-py2.py3-none-any.whl (8.2 MB)\n",
            "\u001b[2K   \u001b[90m━━━━━━━━━━━━━━━━━━━━━━━━━━━━━━━━━━━━━━━━\u001b[0m \u001b[32m8.2/8.2 MB\u001b[0m \u001b[31m66.4 MB/s\u001b[0m eta \u001b[36m0:00:00\u001b[0m\n",
            "\u001b[?25hBuilding wheels for collected packages: docopt\n",
            "  Building wheel for docopt (setup.py) ... \u001b[?25l\u001b[?25hdone\n",
            "  Created wheel for docopt: filename=docopt-0.6.2-py2.py3-none-any.whl size=13706 sha256=54b63465c448be8b9039ef04e9ec56a18903c34bec0c9a466847f18b7484666c\n",
            "  Stored in directory: /root/.cache/pip/wheels/1a/b0/8c/4b75c4116c31f83c8f9f047231251e13cc74481cca4a78a9ce\n",
            "Successfully built docopt\n",
            "Installing collected packages: pymorphy2-dicts-ru, docopt, dawg-python, pymorphy2\n",
            "Successfully installed dawg-python-0.7.2 docopt-0.6.2 pymorphy2-0.9.1 pymorphy2-dicts-ru-2.4.417127.4579844\n"
          ]
        }
      ]
    },
    {
      "cell_type": "code",
      "source": [
        "#@title Импортируем библиотеки\n",
        "import os\n",
        "import re\n",
        "import time\n",
        "import json\n",
        "import gdown\n",
        "import getpass\n",
        "import requests\n",
        "import pathlib\n",
        "import tempfile\n",
        "import subprocess\n",
        "\n",
        "import openai\n",
        "from openai import OpenAI\n",
        "import tiktoken\n",
        "\n",
        "from langchain.docstore.document import Document\n",
        "from langchain.vectorstores import FAISS\n",
        "from langchain_openai import OpenAIEmbeddings\n",
        "from tqdm.auto import tqdm\n",
        "import textwrap as tw\n",
        "from IPython.display import clear_output\n",
        "from langchain.text_splitter import RecursiveCharacterTextSplitter\n",
        "from google.colab import userdata"
      ],
      "metadata": {
        "id": "aUCyyZ2Vgeik"
      },
      "execution_count": null,
      "outputs": []
    },
    {
      "cell_type": "code",
      "source": [
        "# инициируем ключи OpenAI через секрет\n",
        "key = userdata.get('OPENAI_API_KEY')\n",
        "os.environ[\"OPENAI_API_KEY\"] = key\n",
        "\n",
        "openai.api_key = key"
      ],
      "metadata": {
        "id": "-zf2R7pEbDT3"
      },
      "execution_count": null,
      "outputs": []
    },
    {
      "cell_type": "code",
      "source": [
        "#@title Задаем константы\n",
        "MODEL = \"gpt-4o-mini\"\n",
        "temp = 0.3\n",
        "\n",
        "post = 'https://docs.google.com/document/d/1HziKpcWIwmh60vKMu2PRfes9mjMxBqNp/edit?usp=sharing&ouid=114366634982817564013&rtpof=true&sd=true' # здесь посты блогера размеченные\n",
        "\n",
        "max_tok = 2000 # Ограничение длины ответа"
      ],
      "metadata": {
        "id": "5r2DC1S3gqIM"
      },
      "execution_count": null,
      "outputs": []
    },
    {
      "cell_type": "markdown",
      "source": [
        "## Определяем пользовательские Функции"
      ],
      "metadata": {
        "id": "LaXRFRzuo18X"
      }
    },
    {
      "cell_type": "code",
      "source": [
        "# Функция форматирует строку по длинне для корректного вывода длинных строк\n",
        "def wrap(s, max_width=150):\n",
        "    wrapper = tw.TextWrapper(width=max_width, tabsize=4, replace_whitespace=False, drop_whitespace=True)\n",
        "    return '\\n'.join([wrapper.fill(l) for l in s.splitlines()])\n",
        "\n",
        "# Функция форматирует строку удаляя ненужные знаки и символы для включения в результат\n",
        "def format_result(text):\n",
        "    text_mod = text.replace(\"- \", \"\").replace(\"*\", \"\")\n",
        "    return tw.fill(text_mod, 150)\n",
        "\n",
        "# Функция загружает plane text из ГуглДока по URL-ссылке (url)\n",
        "def load_googledoc_by_url(url: str) -> str:\n",
        "        match_ = re.search('/document/d/([a-zA-Z0-9-_]+)', url)\n",
        "        if match_ is None:\n",
        "            raise ValueError('Invalid Google Docs URL')\n",
        "        doc_id = match_.group(1)\n",
        "        response = requests.get(f'https://docs.google.com/document/d/{doc_id}/export?format=txt')\n",
        "        response.raise_for_status()\n",
        "        return response.text\n",
        "\n",
        "# Функция объединяет num_chunks элементов списка lst и возвращает новый список из объединенных элементов\n",
        "def create_block_post(lst, num_chunks):\n",
        "    block_list = []\n",
        "    for i in range(0, len(lst), num_chunks):\n",
        "        block_list.append(' '.join(lst[i:i+num_chunks]))\n",
        "    return block_list\n",
        "\n",
        "#функция добавления переходов на новую строку для удобства чтения\n",
        "# здесь в параметр text подается текст без переносов строки\n",
        "# функция добавит переходы на новую строку при достижении max_len символов\n",
        "def insert_newlines(text: str, max_len: int = 160) -> str:\n",
        "      words = text.split()\n",
        "      lines = []\n",
        "      current_line = \"\"\n",
        "      for word in words:\n",
        "          if len(current_line + \" \" + word) > max_len:\n",
        "              lines.append(current_line)\n",
        "              current_line = \"\"\n",
        "          current_line += f' {word}'\n",
        "      lines.append(current_line)\n",
        "      return \"\\n\".join(lines)\n",
        "\n",
        "#функция добавления переходов на новую строку для удобства чтения\n",
        "# здесь в параметр text подается текст, содержащий переносы строки\n",
        "# функция добавит переходы на новую строку при достижении max_len символов\n",
        "def insert_newlines_n(text: str, max_len: int = 150) -> str:\n",
        "    lines = text.splitlines()\n",
        "    new_lines = []\n",
        "    for line in lines:\n",
        "        words = line.split()\n",
        "        current_line = \"\"\n",
        "        for word in words:\n",
        "            if len(current_line + \" \" + word) > max_len:\n",
        "                new_lines.append(current_line)\n",
        "                current_line = \"\"\n",
        "            current_line += f' {word}'\n",
        "        new_lines.append(current_line)\n",
        "    return \"\\n\".join(new_lines)\n",
        "\n",
        "# функция подсчета токенов\n",
        "def num_tokens_from_messages(messages, model):\n",
        "      \"\"\"Returns the number of tokens used by a list of messages.\"\"\"\n",
        "      try:\n",
        "          encoding = tiktoken.encoding_for_model(model)\n",
        "      except KeyError:\n",
        "          encoding = tiktoken.get_encoding(\"cl100k_base\")\n",
        "      if model in [\"gpt-4o\", \"gpt-o3-mini\"]:  # note: future models may deviate from this\n",
        "          num_tokens = 0\n",
        "          for message in messages:\n",
        "              num_tokens += 4  # every message follows <im_start>{role/name}\\n{content}<im_end>\\n\n",
        "              for key, value in message.items():\n",
        "                  num_tokens += len(encoding.encode(value))\n",
        "                  if key == \"name\":  # if there's a name, the role is omitted\n",
        "                      num_tokens += -1  # role is always required and always 1 token\n",
        "          num_tokens += 2  # every reply is primed with <im_start> assistant\n",
        "          return num_tokens\n",
        "      else:\n",
        "          raise NotImplementedError(f\"\"\"num_tokens_from_messages() is not presently implemented for model {model}.\n",
        "          See https://github.com/openai/openai-python/blob/main/chatml.md for information on how messages are converted to tokens.\"\"\")\n",
        "\n",
        "# Подсчет токенов в строке\n",
        "def num_tokens_from_string(string: str, encoding_name: str) -> int:\n",
        "    \"\"\"Returns the number of tokens in a text string.\"\"\"\n",
        "    encoding = tiktoken.get_encoding(encoding_name)\n",
        "    num_tokens = len(encoding.encode(string))\n",
        "    return num_tokens\n",
        "\n",
        "# функция создания индексов БЗ\n",
        "def create_search_index(file_text,\n",
        "                        knowledge_base_link,\n",
        "                        chunk_size=1024,\n",
        "                        chunk_overlap=200):\n",
        "\n",
        "    splitter = RecursiveCharacterTextSplitter(['\\n\\n', '\\n', ' '], chunk_size=chunk_size, chunk_overlap=chunk_overlap)\n",
        "    count_tokens = 0\n",
        "    source_chunks = []\n",
        "\n",
        "    # разбиваем на несколько частей с помощью метода split_text\n",
        "    for chunkID,chunk in enumerate(splitter.split_text(file_text)):\n",
        "        source_chunks.append(Document(page_content=chunk, \\\n",
        "                            metadata={'source': knowledge_base_link,\n",
        "                                      'chunkID': chunkID}))\n",
        "\n",
        "    if len(source_chunks) > 0:\n",
        "        db = FAISS.from_documents(source_chunks, OpenAIEmbeddings())\n",
        "        count_token = num_tokens_from_string(' '.join([x.page_content for x in source_chunks]), \"cl100k_base\")\n",
        "        count_tokens += count_token\n",
        "        print('Количество токенов в документе :', count_token)\n",
        "        # print('ЦЕНА запроса:', 0.0004 * (count_token / 1000), ' $')\n",
        "\n",
        "    print('\\nЦЕНА запроса создания базы индексов:', 0.0004 * (count_tokens / 1000), ' $')\n",
        "    return db\n",
        "\n",
        "\n",
        "def answer_index(system, instructions, tema_posta, search_index, k):\n",
        "    docs = search_index.similarity_search_with_score(tema_posta, k=k)\n",
        "    message_content = '\\n '.join([f'Отрывок текста №{i+1}\\n{doc[0].page_content}' for i, doc in enumerate(docs)])\n",
        "    message_content_bez_enter = message_content.replace('\\n', ' ')\n",
        "     # Удаляем от двухкратных до 20-кратных пробелов\n",
        "    message_content_bez_enter2 = re.sub(r'\\s{2,20}', ' ', message_content_bez_enter)\n",
        "    messages = [\n",
        "        {\"role\": \"system\", \"content\": system},\n",
        "        {\"role\": \"user\", \"content\": instructions + \"Для написания поста тебе может понадобиться информация из этого документа: \" + message_content_bez_enter2},\n",
        "        ]\n",
        "\n",
        "    completion = openai.chat.completions.create(model=MODEL, messages=messages, temperature=temp)\n",
        "    return completion.choices[0].message.content\n",
        "\n",
        "def gpt_traffic(system, topic, user, search_index, temp=0.5, k=7):\n",
        "    docs = search_index.similarity_search(topic, k)\n",
        "    message_content = re.sub(r'\\n{2}', ' ', '\\n '.join([f'№{i+1}.' + doc.page_content for i, doc in enumerate(docs)]))\n",
        "    messages = [\n",
        "      {\"role\": \"system\", \"content\": system},\n",
        "      {\"role\": \"user\", \"content\": f'{user}. Информация, которая сегодня может понадобиться: {message_content}. Не упоминай документ с информацией, указанный выше. Запрос пользователя: {topic}'}]\n",
        "    completion = openai.chat.completions.create(model=MODEL, messages=messages, temperature=temp)\n",
        "    answer = completion.choices[0].message.content\n",
        "    return answer, message_content\n"
      ],
      "metadata": {
        "id": "gnW5pSUimDFb"
      },
      "execution_count": null,
      "outputs": []
    },
    {
      "cell_type": "markdown",
      "source": [
        "## Загружаем посты\n",
        "Забираем из гугл-документа посты блогера в переменную ( документ размечен: посты отделены друг от друга символами ##_)"
      ],
      "metadata": {
        "id": "O3jqYeutMk07"
      }
    },
    {
      "cell_type": "code",
      "source": [
        "post_1 = load_googledoc_by_url(post)\n",
        "post_1"
      ],
      "metadata": {
        "id": "3C75a3EPMXcg",
        "colab": {
          "base_uri": "https://localhost:8080/",
          "height": 126
        },
        "outputId": "95d6dcee-df58-48fe-a92f-bb919750665d"
      },
      "execution_count": null,
      "outputs": [
        {
          "output_type": "execute_result",
          "data": {
            "text/plain": [
              "'\\ufeff##_\\r\\nПисатель, не желающий профессионально развиваться, к сожалению, превращается в графомана. Не желаю этого ни себе, ни друзьям по ремеслу. Поэтому ловите подборку из тридцати книг по писательскому мастерству:\\r\\n1. Роберт Макки «История на миллион». Хотя книга написана для сценаристов, её по праву можно назвать главным учебником по современной драматургии. Читать сложно, но обязательно, если хотите понять, как написать историю на миллион.\\r\\n2. Блейк Снайдер «Спасите котика». Книга обязательна для прочтения, если хотите, чтобы ваше произведение «держало читателя за горло».\\r\\n3. Милан Кундера «Искусство романа». Размышления о литературе одного из величайших романистов XX века.\\r\\n4. Айн Рэнд «Искусство беллетристики». Курс об искусстве беллетристики, прочитанный знаменитой писательницей в собственной гостиной в 1958 году, когда она находилась на пике творческой активности и была уже широко известна. Слушателями Айн Рэнд были два типа «студентов» — честолюбивые молодые писатели, стремящиеся познать тайны ремесла, и читатели, желающие научиться глубже проникать в «писательскую кухню» и получать истинное наслаждение от чтения. Именно таким людям прежде всего и адресована эта книга, где в живой и доступной форме, но достаточно глубоко изложены основы беллетристики.\\r\\n5. Игорь Гетманский «Азбука литературного творчества, или от пробы пера до мастера слова». Из книги вы узнаете о творческом инструментарии писателя и журналиста; о том, как работать над произведением, с чего, например, начать, как продолжить; что для литератора в работе непреложно, а чем можно и пренебречь; о приемах усиления образности и выразительности речи; о том, как относиться к критике, и многое другое.\\r\\n6. Эльвира Барякина «Справочник писателя». Книга содержит подробные ответы на вопросы начинающих писателей о том, как реализовать творческие идеи, как найти издательство и заключить с ним договор.\\r\\n7. Джозеф Кэмпбелл «Тысячеликий герой». Книга представляет собой архетипичное путешествие героя, описанное в сотнях мифов и идеально ложащееся в основу любого романа.\\r\\n8. Джеймс Н.Фрей «Как написать гениальный роман». Книга преподавателя литературоведческих дисциплин в Калифорнийком университете рассказывает, как «оживить» персонажей, придумать яркую идею, построить захватывающий сюжет, привести сюжет к кульминации, разрешить конфликты, выбрать форму повествования. И в целом является руководством по созданию драматического произведения.\\r\\n9. Сид Филд «Сценарий». Классическое пособие по построению трёхактной истории.\\r\\n10. Стивен Кинг «Как писать книги». Знаменитый автор делится секретами мастерства.\\r\\n11. Энн Ламотт «Птица за птицей». Успешная писательница отвечает на типичные вопросы начинающих писателей: о чем и как писать; как начать это делать; как найти своего героя и сколько страниц в день нужно писать.\\r\\n12. Мередит Маран «Зачем мы пишем». Книга, в которой двадцать писателей рассказывают о профессии, делятся советами и секретами писательского ремесла и объясняют, зачем и как они пишут книги.\\r\\n13. Мейсон Карри «Режим гения». Книга о том, как творили великие писатели, художники и композиторы: их распорядок дня, паттерны вдохновения, способы самомотивации. прочитав её, вы поймёте, как включать «режим гения» и создавать шедевры усилием воли и ежедневным трудом, а не дожидаясь мифической музы.\\r\\n14. Нора Галь «Слово живое и мёртвое». Книга – обобщение многолетнего творчества и самой Норы Галь, и её замечательных коллег. Автор разбирает типичные ошибки, проникающие в прозу и публицистику, на радио и телевидение, и противопоставляет им блестящие образцы живой русской речи.\\r\\n15. Уильям Зинсер «Как писать хорошо». Замечательное пособие по работе над нехудожественными книгами.\\r\\n16. Корней Чуковский «Высокое искусство». Книга посвящена художественному переводу. Хоть она и написана для переводчиков, но станет интересной всем, кому небезразлична чистота русского языка. \\r\\n17.  Уильям Индик «Психология для сценаристов». Книга рассматривает психологические учения Фрейда, Юнга, Эриксона и Адлера как основу создания художественного мира романа и сценария.\\r\\n18. Александр Митта «Кино между раем и адом». Мастер-класс по работе над сценарием от великого советского и российского кинорежиссёра, сценариста и актёра.\\r\\n19. Умберто Эко «Откровения молодого романиста». Автор романов «Имя Розы» и «Маятник Фуко» рассказывает о принципах работы над романом, сюжетом, персонажами, о роли писателя, о творчестве и многих других важных аспектах писательской работы.\\r\\n20. Умберто Эко «Шесть прогулок в литературных лесах». 6 лекций, прочитанных писателем в 1994 году в Гарвардском университете, посвящённых проблеме взаимоотношений литературы и реальности, автора и текста.\\r\\n21. М. Ильяхов, Л. Сарычева «Пиши, сокращай: как создавать сильный текст». Авторы на конкретных примерах показывают, что такое хорошо и что такое плохо в информационных, рекламном, журналистском и публицистическом тексте. Как писать письма, на которые будут отвечать, и рассылки, от которых не будут отписываться. Как создавать действенные и не вульгарные рекламные объявления. Как излагать мысли кратко, ясно и убедительно, без языкового мусора, фальши и штампов. Следуя рекомендациям в книге, вы научитесь писать понятно, увлекать читателей и добиваться доверия. \\r\\n22. Юрген Вольф «Литературный мастер-класс». Сборник советов самых известных и признанных во всём мире писателей (Хемингуэя, Диккенса, Толстого, Чехова), из которых вы узнаете не только о разнообразных литературных приёмах и методах, но и о сути писательского ремесла с его трудностями и перспективами.\\r\\n23. Марина Москвина «Учись видеть. Уроки творческих взлётов». Вдохновляющая книга, главная мысль которой: любой человек – прирождённый творец, надо только дать ему расцвести. В книге можно найти не только дельные профессиональные советы, но и заряд энергии, вдохновение и желание смотреть на мир широко открытыми глазами.\\r\\n24.  Рэй Брэдбери «Дзэн в искусстве написания книг». Великий автор пытается разобраться в себе и в природе писательского творчества. Как появляется замысел? Как рождается сюжет? И вообще – в какой момент человек понимает, что писать книги – и есть его предназначение?\\r\\n25.  Рой Питер Кларк «50 приёмов письма». В книге вы найдёте 50 инструментов писателей и редакторов, авторов книг о письме, учителей и преподавателей литературного мастерства, которые помогут вам отполировать текст до совершенного блеска.\\r\\n26. Кристофер Воглер «Путешествие писателя». Классический учебник о работе над сюжетом и характерами героев на основе архетипов, описанных в мифах, легендах и сказках. Это исследование зыбких границ между мифом и современным искусством, а также адаптация идей «Тысячеликого героя».\\r\\n27.  Реттинг Хилари «Писать профессионально». Авторская методика позволит оптимизировать писательский процесс, повысить его эффективность и навсегда забыть о прокрастинации, которая убивает время и потенциал. \\r\\n28.  Нид Ландау «Дорожная книга шоураннера». Книга о сценарной работе над телесериалом. Поиск идеи, проработка персонажей, работа над сюжетными линиями и мастер-классы от шоураннеров культовых сериалов: «Во все тяжкие», «Декстер», «Остаться в живых» и многих других.\\r\\n29. Линда Сегер «Как хороший сценарий сделать великим». Книга о создании сценария от замысла до финального воплощения. Редактирование – вот та магическая сила, которая способна вдохнуть жизнь в любой труд сценариста. \\r\\n30. Александр Гордон Смит «52 способа написать бестселлер. Как стать известным писателем». Книга предоставит вам шанс создать произведение, основываясь на собственных эмоциях и мыслях, избегая штампов и банальностей. И услышать советы писателя, редактора и издателя о том, как написать настоящий бестселлер.\\r\\nP.S.: сделайте репост, чтобы не потерять подборку😉\\r\\n\\r\\n\\r\\n##_\\r\\n✨Глубина-глубина, я не твой... Краешком глаза заглянула в мини-аналог марианской впадины (\"Голубое озеро\" в Самарской области, диаметр чуть больше 40 метров, глубина 21 метр). И не понять: вроде и нет в нём чего-то такого, особо выдающегося, а  взгляд не отвести...\\r\\n✨Дети больше всего впечатлились встречей с сусликом. Угостили его хлебом. Надеюсь, суслику было вкусно😊\\r\\n✨Дороги - особый вид удовольствия: бескрайние зеленые, зелено-желтые, с яркими пятнами цветов поля, луга, лесостепь... Медовый запах цветущей гречихи, шелест колосьев ржи... По такой дороге хочется ехать и ехать.\\r\\nДа здравствуют путешествия по России!😉\\r\\n\\r\\n\\r\\n##_\\r\\nВесной хочется легкости и обновления, правда? Вот и мне захотелось🤗 Признаться честно, как вышла из затянувшегося декретного отпуска, так и забросила свои страницы и аккаунты в соц.сетях. Но я по-прежнему много читаю, пишу чуть меньше, но книжные обзоры и статьи успели накопиться и ждут своего часа. Грех им пылиться на жестких дисках только потому, что мне не хватает времени или банально лень всё это оформить как следует и разместить🤦\\u200d♀️\\r\\nСегодня предлагаю вам познакомиться с книгой Дэвида и Остина Перлмуттеров «Промывка мозга. Программа для ясного мышления, укрепления отношений с людьми и развития полезных привычек». \\r\\nИз неё вы, например, узнаете, что две минуты активности каждый час сокращают риск развития смертельных заболеваний на 3 %, и о многих других техниках для достижения прекрасного здоровья, улучшения социальных связей и счастья. \\r\\n🔖На работу мозга оказывается сильное манипулятивное воздействие. Это приводит к тому, что мы ощущаем себя более одинокими, подавленными, встревоженными, склонными к заболеваниям и избыточному весу. Мы ощущаем разъединенность с другими людьми и с миром в целом. Нас программируют есть нездоровую пищу, вызывающую диабет, сердечно-сосудистые проблемы, рак и болезнь Альцгеймера. \\r\\n💰Миллиарды долларов тратятся на то, чтобы убедить нас: путь к счастью – это мгновенное вознаграждение и сиюминутное удовольствие. Социальные сети внушают, что все вокруг прекрасно проводят время. Реклама убеждает: покупка радикально изменит вашу жизнь, а таблетка превратит толстуху в супермодель. \\r\\nВ ловушку мгновенного вознаграждения нас заманивает множество факторов, например, один из них – психическая агрессия, которая мешает обрести смысл, радость и длительное благополучие. Мы тратим все больше времени на мимолетные действия, упуская те моменты, которые надежно улучшают качество нашей жизни🤷\\u200d♀️\\r\\nМы не должны быть жертвами плохого здоровья, одиночества и постоянного применения очередных временных мер. \\r\\nСовременное потребительское существование меняет наш мозг физически: перекрывается доступ к той высокоразвитой его части, которая дает нам возможность формировать в сознании масштабную картину и принимать продуманные решения. Одновременно укрепляются пути, которые делают нас импульсивными, беспокойными, напуганными и постоянно жаждущими временных мер. Такая перепрошивка – формирование в мозге новых связей – заставляет нас тратить время и деньги на то, что не приносит долговременного счастья. Авторы книги называют такое состояние отделения от подлинного счастья синдромом разъединения. Для синдрома разъединения характерны: бессмысленная деятельность, одиночество, импульсивность, нарциссизм, хронический стресс, плохие отношения, немедленное вознаграждение и хроническое воспаление.\\r\\nХорошая новость в том, что мы можем быть лучше. Наши тело и разум стремятся к этому – просто им нужно знать, что делать. \\r\\nКак раз для этого авторами книги была разработана 10-дневная программа промывки мозга🔥 Она содержит инструменты, необходимые для четкости мыслей, укрепления связей с другими людьми и развития полезных привычек. «Промывка мозга» научит, как очистить разум и активировать те пути, которые обеспечивают ясное мышление, глубокие взаимоотношения и хорошее психическое самочувствие. \\r\\n10-дневная программа «промывки мозга»: \\r\\n🔔Три главных правила: 1. будьте честными (успех программы требует от вас правдивости, жесткого взгляда на свое здоровье, использование технологий и рацион); 2. обязательства (если вы не можете взять на себя обязательства по выполнению предложенной авторами книги программы, этот план не для вас); 3. Найдите то, что работает (важно понимать, где вам нужна дополнительная помощь, отслеживайте прогресс и как можно больше записывайте). \\r\\n📌День 1: цифровой детокс. \\r\\nОтключите ненужные сигналы на смартфоне и компьютере, удалите ненужные приложения, установите на телефон и компьютер по умолчанию режим «не беспокоить», начните использовать автономный режим во время еды, важных разговоров и сна, настройте свои устройства так, чтобы они не мешали спать, определите, насколько важны соц.сети для вашего бизнеса и личной жизни, планируйте существенно ограничить их использование, начните сокращать время просмотра телевизора, откажитесь от ненужных покупок в интернете. \\r\\n📌День 2: эмпатия \\r\\nНапишите пять вещей, за которые вы кому-то или чему-то благодарны. Поставьте целью поблагодарить кого-нибудь лично за что-то конкретное. Выделяйте время подумать, почему какой-нибудь человек с отличной от вашей точкой зрения мылит именно таким образом. \\r\\n📌День 3: терапия природой \\r\\nПроведите на воздухе хотя бы 30 минут, начните с парка или сквера поблизости. Попытайтесь улавливать звуки, красоту и запахи растений вокруг. Подумайте о покупке комнатных растений или о том, чтобы разбить небольшой огород рядом с домом. \\r\\n📌День 4: питание\\r\\nВыбросите все виды обработанных углеводов, сахара и крахмала, все искусственные подсластители, обработанное мясо, маргарин, неферментированные соевые продукты, продукты, в составе которых присутствуют ингридиенты, которые звучат как химические вещества или иным образом чужды для вас. Приобретите органические продукты, включая овощи и полезные жиры, авокадо, оливковое масло, орехи и семена, морепродукты. \\r\\nЛучше все приемы пищи вместить в 12-часовое окно. \\r\\nЧетыре важные добавки к пище: витамин Д, ДГК 1000 мг в день, куркума, масло МСТ (например 1-2 столовые ложки в день кокосового масла). \\r\\n📌День 5: хороший сон\\r\\nСделайте свою комнату максимально тихой и прохладной, уберите отвлекающие факторы. Старайтесь не употреблять кофеин после 14:00, используйте фильтры синего цвета, если нужно смотреть вечером на экран, приглушайте освещение перед сном, спите не менее 7 часов. \\r\\n📌День 6: физические упражнения\\r\\nРегулярные занятия могут показаться сложными, но идея не в том, чтобы заставлять себя делать что-то неприятное, а в том, чтобы рассматривать физическую деятельность как форму лечения, поддерживающую тело и мозг, улучшающую настроение и облегчающую принятие решений. \\r\\nНачните выполнять какие-нибудь упражнения хотя бы 20 минут в день. НО! При этом: \\r\\n- будьте реалистами при определении начальной нагрузки; \\r\\n- планируйте занятия: не находите время, а выделяйте его; \\r\\n- развлекайтесь; \\r\\n- занимайтесь в компании. \\r\\nЦель – минимум по 30 минут хотя бы 5 дней в неделю. \\r\\n📌День 7: лечебная сила медитации\\r\\nЕсли вы хотите начать с какой-то базовой техники, то просто сядьте и сосредоточьтесь на дыхании на 15-20 минут. \\r\\nЦель – поймать свой разум, пока он где-то бродит. Поэтому не беспокойтесь, если пропала концентрация. В дальнейшем для медитации вам нужно найти 12 минут в день, в которые вас не прервут и не побеспокоят, и место, где вас ничто не отвлечет. \\r\\n📌День 8: взаимоотношения \\r\\nВы получите пользу, ежедневно проводя с другим человеком минимум 10 минут без перерыва. Хитрость в том, что нужно разговаривать, общаться лично – по телефону или в видеочате – и в беседе узнавать о визави что-нибудь новое. \\r\\n📌День 9: переоценка \\r\\nПросмотрите свои заметки. Какие части программы оказались сложнее всего? Что потребовало меньше усилий? Составьте таблицу и отметьте тот вариант, который описывает, насколько сложным был для вас каждый день (легкий, средний, трудный). Так у вас появится представление, на чем нужно сосредоточить усилия. Подумайте, как можно заранее подготовиться к неизбежным моментам слабости. \\r\\n📌День 10: движение вперед \\r\\nПоследний шаг плана – создать базу для получения дальнейшей пользы от уроков книги «Промывка мозга…». Десять дней предназначены для того, чтобы вы фокусировались на каждой технике по отдельности, но если вам хочется настроить мозг на длительное здоровье и радость, то придется заниматься предложенными техниками всю жизнь. \\r\\nЭто на первый взгляд кажется невозможным, но помните: встраивание в расписание дня хотя бы одного из предложений авторов книги – уже гигантский шаг вперед. \\r\\nУдачи вам на пути к здоровью и счастью!\\r\\nЕсли советы книги пришлись по душе, сохраняйте в закладках и делитесь с друзьями. За сердечки тоже спасибо: вам не трудно, а мне приятно🤗\\r\\n\\r\\n\\r\\n##_\\r\\nК нам на лоджию прилетела синица. Поела оставленный охлаждаться суп, проинспектировала стеллаж и собралась улетать. Мальчишки просили её остаться. Птичка посмотрела на них, будто пообещав, что ещё прилетит на обед, и выпорхнула в распахнутое окно.\\r\\nА потом пошёл первый снег. Сразу вызвав вопрос от Сени: “А почему снег идёт вверх?”. Наверное, потому что это Питер🤷\\u200d♀️\\r\\nКогда болезнь затягивается, начинаешь до-другому относиться к мелочам. С ностальгией вспоминаешь запах корицы и любимого геля для душа, вкус капучино и имбирного печенья... И предчувствуешь, какой будет кайф, когда наконец-то пройдёт этот насморк! В ожидании чуда...\\r\\nПочти неделю ничего не писала. Ни строчки. Без текста чего-то не хватает. Становится непривычно пусто. А потом ещё и тяжело разгоняться. Будто нужно заново поставить на рельсы сошедший поезд. Но я смогла. Третий день пишу по 500-700 слов ежедневно.\\r\\nНайти наконец-таки то место, где делают вкусную шаверму и - та-дам! - всего за 130 р. Это точно чудо.\\r\\nРадоваться первым успехам старшего сына в футболе. Уже по воротам попадает и мяч руками почти не хватает. Чудесно!\\r\\nКогда за одним большим столом собирается четыре поколения — это не чудо. Это счастье!\\r\\n\\r\\n\\r\\n##_\\r\\n«Вдохновение – это такая гостья, которая не любит посещать ленивых»\\r\\nВысказывание Петра Ильича Чайковского.\\r\\nНадеюсь, представлять этого великого человека Творчества не нужно...😉\\r\\nВдохновлённых вам выходных🌺\\r\\n\\r\\n\\r\\n##_\\r\\n✨ Жизнь – кайф! Продолжаю записывать чудеса и чудесатости🤗\\r\\nНаверное, я всё-таки научилась планировать время. Вычеркнуть все дела из списка – кайф!\\r\\nКак же радостно наконец-то пойти в любимый фитнес-клуб после перерыва в полгода. И пусть на следующий день всё тело болит, всё равно кайф!\\r\\nИногда надо заставлять себя отдыхать. Мой лучший антидепрессант – интересная книга и ромашковый чай. Или неспеша приготовленный капучино. Выпить в тишине, погружаясь в ощущения. Кайф!\\r\\nМаленькие радости – это важная часть Пути. НЕ лишайте себя простых удовольствий в погоне за чем-то большим.\\r\\nКайф: когда день начинается с бассейна и сауны, а продолжается скрипом ручки по бумаге любимого блокнота.\\r\\nМальчишки решили, что городу нужен ремонт. И забор покосился, и водосточная труба помята, и светофор не работает, и даже листья с дорожек никто не убирает. Внимательные и активные дети – это кайф!\\r\\nВ очередной раз порадовалась, что сломалась посудомоечная машина. Мытьё посуды для меня превратилось в медитацию. Часто приходят интересные мысли.\\r\\nСегодня думала о том, что часто слышу жалобы: ни на что не хватает времени. А как мы проводим почти каждую свободную минуту? Правильно. Пролистывая ленты соцсетей.\\r\\nЛюди! Остановитесь хоть на минуту. Всё самое важное находится внутри вас и немного снаружи. Смотрите на облака, а не в экран телефона. Поиграйте с детьми в догонялки и от души посмейтесь. Вместо того, чтобы ругать себя за очередную неудачу, откройте хорошую книгу и полдня проваляйтесь на диване. Вместо того, чтобы копить с себе усталость и злость, сходите в тир. Найдите своё лучшее лекарство от депрессии. И начните уже радоваться жизни. Ведь жизнь – кайф!\\r\\n\\r\\n\\r\\n##_\\r\\nБлагодарю Вселенную за то, что в моей жизни встретилось много Учителей с большой буквы. Во многом лишь благодаря их труду и преданной любви к своей профессии я смогла закончить школу с золотой медалью, получить два красных диплома и защитить кандидатскую диссертацию. Огромное вам СПАСИБО!\\r\\nНо особенное “спасибо” я хочу сказать бабушке. Она работала учительницей 38!!! лет. Потом вышла на пенсию и учила меня. Теперь продолжает учить правнуков. Спасибо тебе, родная, за твою незыблемую веру в мои способности, за искреннюю радость моим успехам, за безграничное терпение по отношению к моим мальчишкам, за твою неиссякаемую энергию, оптимизм и поддержку всегда и во всём.\\r\\nС праздником вас, Учителя! Пусть слова благодарности льются к вам неиссякаемым потоком бурной горной реки.\\r\\n\\r\\n\\r\\n##_\\r\\nПрактике сбора чудес и чудесатостей меня научила Аня Никольская - писательница, поэтесса и человек Творчества с большой буквы. \\r\\nКаюсь, больше года назад я эту волшебную практику забросила. Но недавно хроническая усталость решила меня окончательно доконать. Вот и поняла я, что пора разворачиваться на 180 градусов и вспоминать, что в каждом моменте есть место чуду. Надо только пошире открыть глаза, чтобы его увидеть. \\r\\nХочу поделиться самыми запомнившимися обыкновенными чудесами за неделю. Надеюсь, они помогут вам встретить понедельник с улыбкой и подтолкнут начать собирать собственные маленькие и большие чудеса. \\r\\n🔹️Из разговоров мальчишек: Максим (5 лет): “Когда я вырасту, буду готовить ужин”. Сеня (3 года): “Когда я буду большим, буду пить кофея”. \\r\\n🔸️Как же здорово бегать с мальчишками наперегонки и шуршать опавшими листьями. А потом собирать из них красно-жёлто-оранжевый букет. И кто из нас в детстве не любил так делать? \\r\\n🔹️Смотреть на полную луну и впадать в задумчиво-меланхолическую прострацию. Купаться в бело-серебристом свете, обновляться и верить в то, что Селене есть дело до каждого. \\r\\n🔸️Выдержать без мужа пять дней (командировка) с двумя ооочень активными мальчишками и не сойти с ума. И никого не придушить. И даже не очень много орать. И можно поставить себе памятник. Нерукотворный. \\r\\n🔹️Ловить солнечные лучи через свежевымытые окна. Мысленно гладить себя по головушке, приговаривая, какая же я хозяйственная. \\r\\n🔸️Купить мальчишкам строительный кран и стройплощадку с разными машинками и затыкать уши от восторженного визга. А потом полдня всё это собирать, тихонечко матерясь про себя, что я вот ни разу не инженер. \\r\\n🔹️Получить маленький, но такой приятный подарок от коллеги по писательскому ремеслу и весь вечер ходить с улыбкой на лице😊\\r\\n\\r\\n\\r\\n##_\\r\\n📌  Как написать синопсис за 30 минут?\\r\\nДумаю, буду недалека от истины, если скажу, что написание синопсиса – та ещё головная боль для писателя. И нигде нет чётких инструкций, что это за зверь такой и как его готовить. Недавно слушала вебинар от Ридеро на эту тему, но даже специалисты не смогли дать однозначный ответ на вопрос: как написать синопсис? Все их мнения свелись к более-менее понятной установке – подробно и кратко опишите сюжет. \\r\\nКто-то даёт рекомендацию писать синопсис в виде короткой истории. То есть нужно пересказать содержание всех ваших 10, а то и 18 авторских листов на двух-трёх страницах. Да ещё и сделать этот пересказ увлекательным и понятным. Задачка не из лёгких, правда?\\r\\nЗаставляя себя выдать очередную версию «короткого содержания 12 а.л.», я отвлеклась на книгу Блейка Снайдера «Спасите котика». Чего только не сделаешь, лишь бы синопсис не писать! Заканчивая читать третью главу упомянутой книги, взгляд мой скользнул к названию главы четвёртой: «приступаем к структуре!». Так со мной произошло одно из наиболее ярких писательских открытий за последние два года.\\r\\nБ. Снайдер выделяет 15 сценарных точек. Понятно, что сценарий отличается от романа, но предложенная структура помогла мне не только быстро составить синопсис, в котором логично и последовательно излагался сюжет романа, но и «подтянуть» сам сюжет.\\r\\nПредлагаю и вам хотя бы ознакомиться со структурой сценария по Блейку Снайдеру. Даже если вы и не планируете в ближайшем обозримом будущем писать сценарий, знания 15 сценарных точек помогут вам по-новому взглянуть на сюжеты собственных нетленок. \\r\\nДостаточно написать одно-два предложения для объяснения каждой точки:\\r\\n1. Открывающая сцена\\r\\n2. Формулирование темы\\r\\n3. Установка\\r\\n4. Катализатор\\r\\n5. Размышление\\r\\n6. Переход ко второму акту\\r\\n7. Второстепенная сюжетная линия\\r\\n8. «Развлечения и приколы»\\r\\n9. Поворотная точка\\r\\n10.  «Плохие парни наступают»\\r\\n11.  «Всё потеряно»\\r\\n12.  «Душа во мраке»\\r\\n13.  Переход к третьему акту\\r\\n14.  Финал\\r\\n15.  Заключительная сцена\\r\\nНадеюсь, теперь вы сможете по-новому взглянуть на сюжет истории, над которой работаете или планируете работать😉\\r\\nP.S.: подробнее о точках в приложенной инфографике⤵️Поделитесь, пожалуйста, в комментариях, как вы пишите синопсис? Давайте обмениваться лайфхаками! И не забывайте сделать репост🙏 Вдруг кому-то из ваших друзей пригодится информация.\\r\\n\\r\\n\\r\\n##_\\r\\nЗАЧЕМ пишет писатель?\\r\\nОтбросим в сторону тщеславие и разговоры о том, что вы пишите для себя. Что вам просто нравится процесс. Что вы с удовольствием ковыряетесь в придуманных мирах. Что несёте новое знание в массы… Да, это тоже правда. Но давайте признаемся (хотя бы сами себе), что мы пишем для других. И хотим, чтобы эти «другие» по достоинству оценили наше творчество.\\r\\nДаже если вы пишите «в стол», всё равно в глубине души надеетесь, что кто-нибудь откроет ящик.\\r\\nКогда я писала первую книгу, то думала примерно так: «не важно ничьё мнение», «какой из меня писатель, закончу книгу и навсегда забуду об этом», «да и кто читать будет?».\\r\\nНо когда роман был дописан, я поняла, что должна дать ему шанс на жизнь. И издала книгу. Не думала, что кто-то её прочитает. А зря. Читатели у романа нашлись, и некоторые  даже сказали, что он весьма неплох. Вот тогда-то я впервые поняла, что всё по-настоящему. И стала писать дальше. \\r\\nДа, критики тоже хватило сполна. Но я с искренней благодарностью отношусь к людям, которые помогали и помогают делать мои тексты лучше.\\r\\nА представляете, как это круто, когда читатели выражают автору своё восхищение?! Лично у меня кости сразу превращаются в желе, а на лице появляется улыбка Чеширского кота.\\r\\nДорогие сёстры и братья по перу, прошу вас, пишите. Даже если вам кажется, что никто это не прочитает и не поймёт. Всё равно пишите. Обязательно найдётся хотя бы один человек, который полюбит вашу книгу. И эта любовь даст вам силы двигаться вперёд.🤗💖\\r\\n\\r\\n\\r\\n##_\\r\\nЗа последние четыре месяца меня несколько раз спрашивали: «куда пропала?», «где твои статьи и книжные обзоры?» и вообще «жива ли ты, моя старушка?»😊.\\r\\nОтвечаю и предупреждаю: будет много букв, так как есть, что сказать.\\r\\nЯ написала две книги. Одна – сказка длинная и для взрослых, вторая – покороче и для детей. А это, знаете ли, имея двух малышей (одному сейчас два, а второму четыре) и кое-какую удалённую работу, — почти подвиг😂)\\r\\nУ многих, наверное, возник закономерный вопрос: а зачем оно тебе надо? Рассказываю.\\r\\nПоследние лет пять жизни занималась поиском себя и борьбой с комплексом отличницы. И поняла, что хочу быть писателем. А может, всему виной затянувшийся декретный отпуск😂)\\r\\nНачалось всё именно с попыток хоть как-то разнообразить жизнь, давно превратившуюся в день сурка. В свободную минутку я с головой погружалась в придуманный мир, чтобы хоть куда-то уйти. Положа руку на сердце / библию / поклявшись мамой / дополните список сами могу сказать, что искренне люблю свою семью. Но мне, как представителю стихии воздуха, жизненно необходим свободный уголок.\\r\\nСтала писать, извините за банальность, чтобы «наполнить жизнь новыми красками». А потом, не помню точно, когда это произошло, я проснулась и поняла, что в голове крутятся мысли не только о том, какую кашу сварить детям на завтрак, а ещё и о том, что ждёт героев моей книги. Под струёй воды в душе и за чисткой зубов разрабатывала сюжетные ходы.\\r\\nИ весь день ждала той минуты, когда смогу открыть ноутбук и спокойно погрузиться в мной же придуманный мир. Хотя бы часа на два…\\r\\nТак поняла, что всё серьёзно. Не очередное хобби на месяц-другой.\\r\\nНаверное, остановившись и не став превращать гонку учёба-работа-семья в очередную гонку – вырастить из сыновей вундеркиндов, я прислушалась к внутреннему голосу, и поняла, чего на самом деле хочет душа. \\r\\nА писать я любила всегда. Вначале школьные сочинения, стихи (кто же не писал стихи в 14-15 лет?)) и короткие рассказы. Потом эссе, статьи и объёмные научные работы. В итоге защитила два диплома и кандидатскую диссертацию (комплекс отличницы прогрессировал😂). \\r\\nНо ушла в науку под влиянием родителей, учителей, а позже преподавателей в институте. Работая над текстами с жёсткой структурой и заранее определёнными логическими связями, всегда мечтала писать свободно, писать с душой и том, что живёт в сердце, а не в уме.\\r\\nПервую художественную книгу я начала в двадцать один год. Непростые отношения, оборвавшиеся так же неожиданно, как и начались, заставили вылить накопившуюся боль на бумагу. Написала сорок страниц и остановилась, не понимая, куда идти дальше. \\r\\nНачатая книга долго оставалась заброшенной. Учёба, работа, потом замужество и рождение первого ребёнка… О писательстве как-то забылось.\\r\\nНо однажды, разбирая файлы на жёстком диске и удаляя всё ненужное, наткнулась на рукопись. Перечитала её и решила, что должна закончить книгу.\\r\\nПризнаюсь, что торопилась дописать роман, потому что была беременна вторым сыном и хотела увидеть напечатанную книгу ещё до рождения ребёнка. Я почти успела. На выписку из роддома мама привезла МОЮ первую книгу📖.\\r\\nПодержав её в руках, вдохнув волшебный аромат свежей типографской краски и пролистав хрустящие страницы, я поняла, что встала на дорогу писателя. \\r\\nКонечно, это долгий и извилистый путь, далеко не всегда приводящий к славе. Часто идти по нему придётся в одиночестве. Но встав на путь писателя однажды, уже не смогу с него сойти.\\r\\nБлагодарю, что встретила на этом пути Учителей, Мастеров слова: Стивена Кинга и Чака Паланика, Анну Никольскую и Эльвиру Барякину, Сергея Лукьяненко и Леонида Каганова, Майю Кучерскую и Марину Москвину и многих других. Училась, учусь и буду у вас учиться.\\r\\nА ещё я с детства любила камни. Помню, как украдкой примеряла мамины кольца и бусы. Подолгу держала украшения в руках и, как зачарованная, не могла отвести от них взгляд.\\r\\nВ цикле книг, над которым я сейчас работаю,  органично – во всяком случае, надеюсь на это – слились две мои страсти: камни и создание волшебных миров.\\r\\nКристаллы, действительно, обладают магией. Конечно, не настолько явной, как представлено в книге, но всё же магией. Они способны принести пользу в любой сфере жизни.\\r\\nВ процессе подготовки первой книги накопилось так много материала, что я решила создать группу, где выкладываю не только выдержки из глав, но и много интересной информации о минералах💎.\\r\\n\\r\\n\\r\\n##_\\r\\nЧто для вас изобилие?✨ \\r\\n💖 Деньги? Власть? Любовь? Здоровье? Неиссякаемая энергия? Жизнерадостность? Мудрость?.. Думаю, каждый найдёт свой ответ.\\r\\nПопробуем разобраться в том, как привлечь изобилие и наполнить жизнь богатствами – неважно, материальными или духовными.\\r\\nДля начала предлагаю сосредоточиться на изобилии вокруг. Вы пробовали сосчитать листья на дереве? Или песчинки на пляже? А, может, вы знаете, сколько капель упало на землю с последним дождём?\\r\\nПрирода – яркий пример неиссякаемого изобилия. Но и она черпает изобилие из неиссякаемого источника Вселенной. Попробуйте привлечь богатство, сосредоточившись на смехе ребёнка или друга, улыбке любимого человека или ласковом прикосновении солнечного луча.\\r\\nА теперь пришло время сфокусироваться на том, что вы хотите привлечь в жизнь. И поможет в этом визуализация. Представьте яркую картину изобилия. Может, это будет четырёхэтажный дом. Если так, пройдите по комнатам, замечая каждую деталь интерьера. А может дом стоит на берегу моря, а к причалу пришвартована моторная трёхпалубная яхта? Или из панорамного окна гостиной открывается вид на горнолыжный спуск? Если ваша цель – обрести любовь, закройте глаза и нарисуйте портрет идеального мужчины (женщины). Легко прикоснитесь к его щеке, и пусть на лице вашего идеала появится игривая улыбка, а в глазах блеск.\\r\\nТеперь каждый день начинайте с мысленного образа неограниченного изобилия, и в скором времени оно материализуется.\\r\\nВ бурном потоке жизни сумейте найти время, чтобы остановиться на минуту, прислушаться к голосу сердца и вспомнить, о чём вы мечтали. В вас заложен огромный потенциал. Не растрачивайте его на то, что не приносит счастья. Прежде чем принять очередное решение, спросите себя: «этого ли хочет моё сердце?». И воспользуйтесь своим потенциалом, чтобы делать и иметь всё то, о чём мечтаете.\\r\\nНе бойтесь ошибок. Каждая неудача несёт в себе семена будущего успеха. В НЛП есть пресуппозиция: не бывает поражений, существует только обратная связь. Это ресурсное предположение. Попробуйте осмыслить его и применить, и вы удивитесь, насколько изменится жизнь.\\r\\nВоспользуйтесь Законом Дарения. И каждый день давайте то, что хотели бы получить. Если стараетесь привлечь любовь, проявите её ко всем, кто вас окружает. Если стремитесь к материальному богатству, займитесь благотворительностью.\\r\\nНе забывайте и о Законе Кармы. Делайте правильный, осознанный выбор.\\r\\nИспользуя Закон Наименьшего усилия, ждите и принимайте изобилие, текущее отовсюду. И неважно, что это может быть чашка кофе, которым угостит вас коллега по работе. С благодарностью примите любое проявление изобилия, и оно устремится к вам в большем объёме. \\r\\nПредставьте, что перед вами разлился океан возможностей. Его воды меняют цвет от лазурного до насыщенного изумрудного. В ваших руках бутылка и чистый лист бумаги. Напишите на листе все составляющие изобилия. Сверните лист, положите его в бутылку, закупорьте её и бросьте в океан. И позвольте вселенной позаботиться об исполнении ваших желаний.\\r\\nПоверьте в то, что есть путь, который приведёт вас к достижению истинной цели, в независимости от того, сколько на нём поворотов.\\r\\nНачните замечать совпадения. Хотя бы часов и минут на экране телефона. Живя осознанно, здесь и сейчас, вы в полной мере ощутите магию синхросудьбы.\\r\\nЖивите с благодарностью. Проживайте каждый день беззаботно и с лёгким сердцем, зная, что всё хорошо.\\r\\nЖивите в единстве и любви, помня, что мы все – единое целое. Попробуйте сегодня подарить любовь каждой вещи и каждому человеку, с которым соприкоснётесь.\\r\\nЖивите в роскоши и в изобилии. Побалуйте себя моментами роскоши: сочными фруктами или шоколадом, каплей ароматного масла, добавленного в горячую ванну или встречей со старым другом за чашкой чая.\\r\\nПовышая сознание изобилия, вы участвуете в исцелении мира.\\r\\nP.S.: по мотивам 21-дневного медитативного челленджа под руководством Дипака Чопры.\\r\\n\\r\\n\\r\\n##_\\r\\nНашла своё место силы. Иной мир, неподвластный житейским бурям. Купалась в чудесах и стихах, радовалась и обновлялась. ✨\\r\\nНа субботнике мыла окна в детском саду. Подумалось: если глаза – зеркало души, а окна – глаза дома, значит ли это, что его душа станет чище, когда вымыты окна?\\r\\nПошла в аптеку за йодом и витаминами. Ближайшая оказалась закрыта. Пришла в другую, а там скидка на всё 20%. Как это происходит?\\r\\nСтранно устроено человеческое восприятие. Обратила внимание на определённую марку и модель автомобиля. Потом два дня встречала на дороге эту редкую модель. А раньше не замечала…\\r\\nВот что происходит, когда с года начинаешь говорить с ребёнком на иностранном языке:\\r\\n – Мама, вытри мой daddy finger (большой палец);\\r\\n– ммм, yammy (вкусно);\\r\\n– я – baby (малыш) \\r\\nи много других забавностей.\\r\\nВстретила похожие на крошечные бутоны роз почки лиственницы.\\r\\nПодставляла лицо тёплому апрельскому Питерскому солнцу, закрывала глаза и видела море. \\r\\nСлучайно купленная турецкая клубника наполнила дом ароматом лета. И оказалась вкусной…\\r\\nГостили у бабушки. Мальчишки по очереди осваивали лошадку-качалку. Она с английским спокойствием терпела их шалости.\\r\\nЕхала с открытым окном и во весь голос, а точнее его отсутствие, подпевала Muse. Раньше мне было бы стыдно, а теперь весело. \\r\\nУтром смузи из черники, банана и гречневого молока, вечером – из сельдерея, яблока и груши. Слышу, как клеточки восторженно пищат от витаминов. \\r\\nУзбекские лимоны – волшебные. Чай от кусочка такого лимона пахнет чабрецом. \\r\\nВстретила цитату из «Дьявол и сеньорита Прим» Пауло Коэльо, идеально совпадающую с настроением: «Истинная любовь взаимности не требует, а тот, кто желает получить за свою любовь награду, попусту теряет время».\\r\\nЗакончила редактировать рукопись. Загрустила, будто прощаюсь с близким другом. Зашла «ВКонтакт», а там меня ждало письмо от замечательной девушки, которая прочитала далеко не идеальную повесть и даже похвалила её. В груди и ниже, где-то в районе солнечного сплетения разлилось тепло. Теперь близкого друга отпускать не так грустно. \\r\\nВселенная намекнула, что пора обнулиться: закончились деньги на карте, бензин в баке и полностью разрядился аккумулятор телефона.\\r\\nПошла в парк. Обнималась с деревьями, говорила с землёй, гладила воду в ручье, улыбалась солнцу. Вернулась домой наполненная запахами, шелестом и вздохами.\\r\\nУчилась осознанному ничегонеделанию и наблюдению. Увидела мотоцикл, припаркованный к берёзе, воробьёв, прыгающих с ветки на ветку, голубей, пьющих из лужи, чайку, схватившую корку хлеба и полетевшую на крышу с добычей, людей, спешащих к остановке, и мальчишек, пытающихся уронить светофор…\\r\\n\\r\\n\\r\\n##_\\r\\nКак написать синопсис за 30 минут?\\r\\nДумаю, буду недалека от истины, если скажу, что написание синопсиса – та ещё головная боль для писателя. И нигде нет чётких инструкций, что это за зверь такой и как его готовить. Недавно слушала вебинар от Ридеро на эту тему, но даже специалисты не смогли дать однозначный ответ на вопрос: как написать синопсис? Все их мнения свелись к более-менее понятной установке – подробно и кратко опишите сюжет. \\r\\nКто-то даёт рекомендацию писать синопсис в виде короткой истории. То есть нужно пересказать содержание всех ваших 10, а то и 18 авторских листов на двух-трёх страницах. Да ещё и сделать этот пересказ увлекательным и понятным. Задачка не из лёгких, правда?\\r\\nЗаставляя себя выдать очередную версию «короткого содержания 12 а.л.», я отвлеклась на книгу Блейка Снайдера «Спасите котика». Чего только не сделаешь, лишь бы синопсис не писать! Заканчивая читать третью главу упомянутой книги, взгляд мой скользнул к названию главы четвёртой: «приступаем к структуре!». Так со мной произошло одно из наиболее ярких писательских открытий за последние два года.\\r\\nБ. Снайдер выделяет 15 сценарных точек. Понятно, что сценарий отличается от романа, но предложенная структура помогла мне не только быстро составить синопсис, в котором логично и последовательно излагался сюжет романа, но и «подтянуть» сам сюжет.\\r\\nПредлагаю и вам хотя бы ознакомиться со структурой сценария по Блейку Снайдеру. Даже если вы и не планируете в ближайшем обозримом будущем писать сценарий, знания 15 сценарных точек помогут вам по-новому взглянуть на сюжеты собственных нетленок. \\r\\nДостаточно написать одно-два предложения для объяснения каждой точки:\\r\\n1. Открывающая сцена\\r\\n2. Формулирование темы\\r\\n3. Установка\\r\\n4. Катализатор\\r\\n5. Размышление\\r\\n6. Переход ко второму акту\\r\\n7. Второстепенная сюжетная линия\\r\\n8. «Развлечения и приколы»\\r\\n9. Поворотная точка\\r\\n10.  «Плохие парни наступают»\\r\\n11.  «Всё потеряно»\\r\\n12.  «Душа во мраке»\\r\\n13.  Переход к третьему акту\\r\\n14.  Финал\\r\\n15.  Заключительная сцена\\r\\nНадеюсь, теперь вы сможете по-новому взглянуть на сюжет истории, над которой работаете или планируете работать😉\\r\\nP.S.: подробнее о точках в приложенной инфографике⤵️Поделитесь, пожалуйста, в комментариях, как вы пишите синопсис? Давайте обмениваться лайфхаками! И не забывайте сделать репост🙏 Вдруг кому-то из ваших друзей пригодится информация.\\r\\n\\r\\n\\r\\n##_\\r\\nДорогие девочки и девушки, мамочки и бабушки! Пусть сегодня близкие дарят вам большие и маленькие чудеса!✨\\r\\nПочувствуйте себя самыми любимыми и желанными, разбудите весну в душе!🌺🌷🌸\\r\\nПусть ваши скулы заболят от улыбок, а со щёк весь день не сходит довольный румянец🤗💖\\r\\nЖелаю вам получить букет тюльпанов от любимых мальчишек. Потому что это и есть самое настоящее счастье✨🌈\\r\\n##_\\r\\n«Сделайте что-то ужасное, а потом идите в сауну»: 15 забавных советов Хелен Рассел о том, как научиться мыслить позитивно\\r\\nЖурналистка и писательница Хелен Рассел объездила полмира, выискивая секреты счастья датчан, японцев, немцев, финнов, итальянцев и шведов. Она убедилась, что трава вовсе не зеленее там, «где нас нет». Счастье не зависит от доходов, политической ситуации в стране или климата. Дело только в позитивном мышлении. \\r\\nВот 15 советов Рассел о том, как перестать жаловаться и научиться ценить жизнь из книги «Атлас счастья. Уникальные рецепты счастья со всего света». \\r\\n1. Вспоминайте любимых и ушедших людей. Будьте благодарны тем, кто всё ещё с вами. Сенека советовал представлять, что мы всё потеряли, чтобы научиться ценить то, что имеем. \\r\\n2. Будьте спонтанны. Живите моментом, следуйте течению. Не планируйте свой вечер. Незабываемые вещи трудно предугадать. Старайтесь проводить время с друзьями, не ведите организованную, распланированную, контролируемую жизнь. \\r\\n3. Если снаружи враждебная обстановка, развивайте внутренний мир. Читайте или пишите книги. \\r\\n4. Мы можем контролировать только собственные мысли и действия и не несём ответственности за других. Мы не можем ничего поделать с постоянным идиотизмом – помните об этом. \\r\\n5. Сделайте всё, чтобы добавить радости в работу. Пересмотрите отношение к подходу «с девяти до пяти». Мы все работаем, чтобы, в конечном счёте, привнести благополучие в жизнь других людей. Да, возможно, это скучно, но любая работа ценна. Помните об этом. Запишите это на листочке и держите его перед глазами. Но если вы ненавидите работу, перепрофилируйтесь и ищите новую. Учиться никогда не поздно. \\r\\n6. Прикосновения стимулируют выработку окситоцина, «гормона любви», а он помогает нам чувствовать себя хорошо. По словам нейробиологов, окситоцин – лучшее лекарство от чувства одиночества. Обнимайтесь чаще. \\r\\n7. Учитесь состраданию. Если вы злитесь на коллегу или собираетесь кинуть в супруга носком только потому, что он опять не положил его в корзину для грязного белья, остановитесь и подумайте. Этот человек не хотел вас разозлить, его что-то отвлекло. Смирите эго. Не предполагайте. Учитесь новому у каждого встречного. Возможно, грубый водитель автобуса или ужасный коллега пытаются вам что-то сказать? \\r\\n8. Гонитесь за счастьем, а не за деньгами. Исследователи из Государственного университета Сан-Франциско доказали, что мы получаем гораздо больше радости от новых впечатлений, а не от покупок. \\r\\n9. Как установили учёные из университетов Уорвика и Миннесоты, предел, когда доходы не влияют на ощущение благосостояния, составляет 36 тысяч долларов. Более высокий доход делает человека богаче, но не счастливее. \\r\\n10. Пострадайте для выработки дофамина. Погуляйте в мороз, сделайте дело, которое вы миллион раз откладывали, а потом идите в сауну (бить себя веником и кататься в снегу – по желанию). После этого вы с куда большим удовольствием воспримете любое наслаждение. \\r\\n11. Пока не нашли способа разрядиться? Попробуйте новое хобби. Оно делает нас счастливее. Если уйдёте в занятие с головой и сфокусируетесь на нём, начнёте прокачивать ещё и самоосознанность – двойная польза. \\r\\n12. Примите вещи, которые нельзя изменить (противные коллеги, погода и плохое настроение мужа – не ваша проблема). Работайте усердно, потом отдыхайте. Гордитесь тем, что выложились на сто процентов. Продуктивный день приносит удовлетворение. \\r\\n13. Окружайте себя добротными дизайнерскими изделиями. Интерьер оказывает влияние на настроение. Когда вокруг красиво, на душе становится уютно и тепло. Как показало исследование, произведения искусства и дизайна стимулируют ту же мозговую активность, что и состояние влюбленности. \\r\\n14. Наслаждайтесь своим телом! Катайтесь на велосипеде, бегайте, прыгайте, танцуйте, занимайтесь сексом. Стряхните с себя лень и усталость. Подобные занятия не только способствуют выделению эндорфинов, но и улучшают внешность.\\r\\n 15. Жизнь не может всегда быть наполнена солнцем, единорогами и радугой – ведь это не утопия. Но надёжная, безопасная и заботливая среда, где всегда можно чувствовать себя уверенным, – нечто замечательное. В ней есть чему радоваться: появлению летней клубники, улыбке Рыжика, бокалу вина.\\r\\n\\r\\n\\r\\n##_\\r\\nДелать маленькие паузы - спасти свой внутренний мир от мыслетрясений!\\r\\n\\r\\n\\r\\n##_\\r\\nЗнаете, когда совсем не очень, я срочно отправляюсь в поход за чудесами.\\r\\n\\r\\n\\r\\n##_\\r\\nЯ создаю свою вселенную, свой мир. Сейчас, влюбленная в это все, что есть вокруг, в силы природы, в этот лес, в это солнце, я знаю, что возможно все.\\r\\n\\r\\n\\r\\n##_\\r\\nПомните, чем пахнет черемуха? Свободой! Одуванчики - апрелем, а смолистые тополиные почки - первой любовью.\\r\\n\\r\\n\\r\\n##_\\r\\nУютничать. Какое тёплое домашнее слово. Это про то, чтобы окружить себя тем, что тебе созвучно.\\r\\n\\r\\n\\r\\n##_\\r\\nМесто силы - это локация, располагающая к ощущению ценности и кайфовости жизни. Когда ты чувствуешь достаточность своего \"Просто Быть\".\\r\\n\\r\\n\\r\\n##_\\r\\nЕсли точно задаёшь вопрос, ответ приходит мгновенно. Это как с нейросетью? Главное правильно сформулировать.\\r\\n\\r\\n\\r\\n##_\\r\\nМоре - это мой дом, горы - это моя любовь, красота вокруг и внутри - бесконечна. Поэтому в моей жизни много моря, гор и красоты.\\r\\n\\r\\n\\r\\n##_\\r\\nКаждую победу стоит праздновать и не забывать наслаждаться самим путешествием от одной цели к другой.\\r\\n\\r\\n\\r\\n##_\\r\\nНастроение - ухаживать за собой, как будто я самый дорогой в мире экспонат.\\r\\n\\r\\n\\r\\n##_\\r\\nВесна - время встряхивания всего, что залежалось, уборки снаружи и внутри. Всестороннего обновления. И здесь у каждого свой темп.\\r\\n\\r\\n\\r\\n##_\\r\\nКогда на душе тоскливо и кажется, что всё тлен... нужно либо поспать, либо поесть, либо погулять.\\r\\n\\r\\n\\r\\n##_\\r\\nПреимущества квантового мышления:\\r\\n1. Вами становится невозможно манипулировать.\\r\\n2. Вы легко отпускаете и меняете фокус внимания. \\r\\n3. Драма становится не интересна. \\r\\n4. Эго ослабевает хватку (примерно на 80%) и в меньшей мере  влияет на ваши решения и поступки. \\r\\n5. Вы не зависите от чужого мнения (как отрицательного, так и положительного). \\r\\n6. Вы живете \"задом наперед\", начиная с желаемой конечной точки (мечты), постепенно подтягивая себя в нее в линейном времени. \\r\\n7. Вы максимально внимательны к подсказкам интуиции и синхронистичности и игнорируете все остальное.\\r\\n8. Вы более адаптивны и легки в проживании  контрастных ситуаций. \\r\\n9. Вы в меньшей степени подвержены влиянию окружающей среды. \\r\\n10. Вы чувствуете (знаете), что вы - центр своей реальности. \\r\\n11. Вы любите себя и принимаете окружение безусловно, умея выбирать предпочтительное, поскольку хорошо знаете себя (свою эстетику).\\r\\nБольше о переходе из линейного мышления в многомерное рассказываю ежедневно и с радостью в ТГ- канале.\\r\\nСсылка в комментарии под постом💫\\r\\n\\r\\n\\r\\n##_\\r\\nВы когда-нибудь задумывались: а что, если жизнь —  не  какофония случайных событий, а гармоничная симфония, которой мы  можем  дирижировать?  Слушая тишину между мыслями, превращая мечты в маршруты, а страхи — в топливо, живя в синхронистичности, где совпадения становятся закономерностями, а слова «невозможно» попросту нет.  \\r\\nВ 3D-реальности не существует создающих ее механизмов и незыблемых правил — реальность творят  лишь наши униканые вибрации, прямо сейчас. \\r\\nМой курс \"Фиолетовый. Творение  на высоких частотах\" - для тех, кто хочет переписать заезженные сценарии, начать играть вживую, перестав ждать чуда и... наконец стать им. Это ключ к настройке мира в ритме вашего сердца.\\r\\nПрисоединяйтесь к  группе, и пусть ваша реальность зазвучит в мажоре, на высоких частотах.  Следующий аккорд — ваш.'"
            ],
            "application/vnd.google.colaboratory.intrinsic+json": {
              "type": "string"
            }
          },
          "metadata": {},
          "execution_count": 6
        }
      ]
    },
    {
      "cell_type": "markdown",
      "source": [
        "Формируем список из постов"
      ],
      "metadata": {
        "id": "ZkUoH4aPNJYX"
      }
    },
    {
      "cell_type": "code",
      "source": [
        "all_posts = post_1.split(\"##_\")\n",
        "print(len(all_posts))"
      ],
      "metadata": {
        "id": "NYehIa64NGM2",
        "colab": {
          "base_uri": "https://localhost:8080/"
        },
        "outputId": "97d6c879-cacc-494a-9559-2b5da2840ab2"
      },
      "execution_count": null,
      "outputs": [
        {
          "output_type": "stream",
          "name": "stdout",
          "text": [
            "31\n"
          ]
        }
      ]
    },
    {
      "cell_type": "markdown",
      "source": [
        "Выведем содержание шестого поста"
      ],
      "metadata": {
        "id": "RajBbpJOE-hG"
      }
    },
    {
      "cell_type": "code",
      "source": [
        "all_posts[5]"
      ],
      "metadata": {
        "id": "yUbQT-H4NYfG",
        "colab": {
          "base_uri": "https://localhost:8080/",
          "height": 54
        },
        "outputId": "17fc74ef-af21-46f7-a49e-2ce6eb5977d7"
      },
      "execution_count": null,
      "outputs": [
        {
          "output_type": "execute_result",
          "data": {
            "text/plain": [
              "'\\r\\n«Вдохновение – это такая гостья, которая не любит посещать ленивых»\\r\\nВысказывание Петра Ильича Чайковского.\\r\\nНадеюсь, представлять этого великого человека Творчества не нужно...😉\\r\\nВдохновлённых вам выходных🌺\\r\\n\\r\\n\\r\\n'"
            ],
            "application/vnd.google.colaboratory.intrinsic+json": {
              "type": "string"
            }
          },
          "metadata": {},
          "execution_count": 8
        }
      ]
    },
    {
      "cell_type": "markdown",
      "source": [
        "Очистим тексты от переходов на новую строку, чтобы вытягивал больше деталей + экономия токенов на незначащих символах"
      ],
      "metadata": {
        "id": "fQBcU9ZyEtGN"
      }
    },
    {
      "cell_type": "code",
      "source": [
        "all_posts_cleaned = [s.replace(\"\\n\", \"\") for s in all_posts]\n",
        "print(len(all_posts_cleaned))"
      ],
      "metadata": {
        "colab": {
          "base_uri": "https://localhost:8080/"
        },
        "id": "wyrxfp-BxyPS",
        "outputId": "aa692fcc-ab62-47bf-e407-300a36cef684"
      },
      "execution_count": null,
      "outputs": [
        {
          "output_type": "stream",
          "name": "stdout",
          "text": [
            "31\n"
          ]
        }
      ]
    },
    {
      "cell_type": "markdown",
      "source": [
        "## Функции для выделения характеристик постов:"
      ],
      "metadata": {
        "id": "BZOHt8vGYyua"
      }
    },
    {
      "cell_type": "code",
      "source": [
        "#@title Выделение характеристик постов (модель GPT): анализирует в цикле посты и возвращает список, состоящий из характеристик, выявленных моделью\n",
        "# в переменной promt - инструкция для system\n",
        "# в переменной zapros_i - инструкция для user\n",
        "# в переменной posts_list - список постов для анализа\n",
        "def nomer_zaprosa(promt, zapros_i, posts_list):\n",
        "    # формируем запрос к GPT\n",
        "    zapros = zapros_i + '\\n'.join(posts_list)\n",
        "    messages = [\n",
        "                {\"role\": \"system\", \"content\": promt},\n",
        "                {\"role\": \"user\", \"content\": zapros}\n",
        "              ]\n",
        "\n",
        "    # получаем ответ GPT\n",
        "    response = openai.chat.completions.create(model=MODEL,\n",
        "                                              messages=messages,\n",
        "                                              temperature=temp,\n",
        "                                              max_tokens=max_tok)\n",
        "\n",
        "    # возвращаем ответ GPT\n",
        "    return response.choices[0].message.content"
      ],
      "metadata": {
        "id": "5P6EWOg4JhAS"
      },
      "execution_count": null,
      "outputs": []
    },
    {
      "cell_type": "code",
      "source": [
        "#@title Обработка эмоциональных выражений, приветствий, вводных слов и обработка тем (обрабатываем не одиночные слова, а выражения. Для приветствий, вводных слов и эмоциональных выражений устанавливаем предельный размер 8 слов в выражении, для обработки тем постов берем выражения по 100 слов)\n",
        "\n",
        "# функция форматирования списка фраз в очищенный от дубликатов список выражений\n",
        "def clean_list(slova, target_len):   # target_len = 8 для всех выражений, кроме списка тем (= 100)\n",
        "    list_r = slova.split('\\n')\n",
        "\n",
        "    cleaned_list = []       # в этот список сохраним выражения, очищенные от кавычек, точек, запятых и цифр\n",
        "    for element in list_r:\n",
        "        # Удаляем кавычки, запятые, точки и цифры\n",
        "        cleaned_element = ''.join(filter(lambda x: x not in ['\"', ',', '.', ')', '0', '1', '2', '3', '4', '5', '6', '7', '8', '9', '-'], element))\n",
        "        cleaned_list.append(cleaned_element)\n",
        "\n",
        "    list_p = [x.strip() for x in cleaned_list] # Удаляем пробелы в начале и конце каждого значения (выражения)\n",
        "    list_d = list(set(list_p))   # Удаляем дубликаты\n",
        "    # sorted_list = sorted(list_d, key=lambda x: len(x)) # Сортируем по длине элементов (выражений)\n",
        "\n",
        "    keywords = [\"ранжированный\", \"список\", \"выражений\", \"выражениями\"] #удалаяем те выражения, где есть эти слова\n",
        "    list_с = [item for item in list_d if not any(keyword in item for keyword in keywords)]\n",
        "\n",
        "    list_сс = list(filter(None, list_с)) # убираем пустые значения\n",
        "    final_list = [item1 for item1 in list_сс if len(item1.split()) <= target_len]   #берем только выражения, где не больше target_len слов\n",
        "    return final_list\n",
        "\n"
      ],
      "metadata": {
        "id": "aDmqKxiZ9pOa"
      },
      "execution_count": null,
      "outputs": []
    },
    {
      "cell_type": "code",
      "source": [
        "#@title Обработка смайликов с ранжированием по частотности. Параметр - список всех смайликов из постов. Очищаем этот список от пробелов и символов \"‍\" и \"♂️\". При помощи Counter из библиотеки collections определяем частоту вхождения каждого смайлика в список смайликов и ранжируем итоговый список по числу вхождений (по убыванию)\n",
        "from collections import Counter\n",
        "\n",
        "def process_smiley(smiley, all_posts):\n",
        "    # получаем весь текст\n",
        "    all_posts_text = '\\n'.join(all_posts)\n",
        "\n",
        "    #делим значения переменной через запятую и получаем список\n",
        "    split_list = smiley.replace('\\n', '').replace(' ', '').replace('\\u200d', ',').split(',')\n",
        "\n",
        "    # Очищаем список от пробелов и символов \"‍\" и \"♂️\"\n",
        "    cleaned_list = [item.replace(\" \", \"\").replace(\"‍\", \"\").replace(\"♂️\", \"\") for item in split_list]\n",
        "\n",
        "    # Создаем объект Counter, который подсчитывает количество каждого элемента\n",
        "    counter = [(smile, all_posts_text.count(smile)) for smile in cleaned_list]\n",
        "\n",
        "    # Создаем ранжированный список по убыванию количества элементов\n",
        "    ranked_list = sorted(counter, key=lambda x: x[1], reverse=True)\n",
        "    print(ranked_list)\n",
        "    new_list = [item[0] for item in ranked_list]\n",
        "\n",
        "    return new_list"
      ],
      "metadata": {
        "id": "9B7v98mD-ZVa"
      },
      "execution_count": null,
      "outputs": []
    },
    {
      "cell_type": "markdown",
      "source": [
        "## Сущности (характеристики), которые нужно выделить из постов блогера\n",
        "- вводные слова\n",
        "- манера письма\n",
        "- стиль\n",
        "- лексика\n",
        "- синтаксис\n",
        "- эмоции и тональность\n",
        "- синтаксические конструкции\n",
        "- литературные приемы\n",
        "- индивидуальные особенности\n",
        "- психотип\n",
        "- эмоциональные выражения\n",
        "- смайлы и эмоджи\n",
        "\n",
        "1. Вытягиваем характеристики из постов.\n",
        "2. Обобщаем в одно общее описание для всех постов блогера.\n",
        "3. Для каждой сущности сохраняем запрос и результат в отдельные переменные, по которым в дальнейшем программно сможем построить промпт для генерации постов.\n",
        "\n",
        "Эту часть запроса будем включать в инструкцию для выделения характристик по каждой сущности:\n",
        "\n",
        "promt_ = '''***Ты профессиональный главный редактор журнала.\n",
        "Ты разговариваешь с блогером лицом к лицу, поэтому отвечаешь от второго лица.***'''.\n",
        "\n",
        "Кроме этого для каждой сущности будем добавлять в инструкцию специфические для сущности промпты."
      ],
      "metadata": {
        "id": "GO1Tw5CMlJRZ"
      }
    },
    {
      "cell_type": "markdown",
      "source": [
        "#### Вступительные (вводные) слова - выделяем с использованием модели GPT"
      ],
      "metadata": {
        "id": "y40v7b47tAcZ"
      }
    },
    {
      "cell_type": "code",
      "source": [
        "#00 запрос вводные слова\n",
        "promt_ = '''Ты профессиональный главный редактор журнала.\n",
        "Ты разговариваешь с блогером лицом к лицу, поэтому отвечаешь от второго лица.'''\n",
        "promt_00 = promt_ + '''Ты очень точно умеешь находить в постах вводные слова, которые блогер использует в своих обращениях к читателям.'''\n",
        "zapros_00 = '''\n",
        "#1 Проанализируй мои посты и найди в них вводные слова (то есть слова, которые я использую в своих обращениях к читателям);\n",
        "#2 Составь список этих вводных слов. ;\n",
        "#3 Из составленного списка удали все приветствия, смайлики и эмодзи.\n",
        "В качестве итогового результата выведи вводные слова через запятую.\n",
        "Вот мои посты: '''\n",
        "\n",
        "result_list_00 = nomer_zaprosa(promt_00, zapros_00, all_posts_cleaned) # вытягиваем\n",
        "print (wrap(result_list_00))"
      ],
      "metadata": {
        "colab": {
          "base_uri": "https://localhost:8080/"
        },
        "id": "hdGiFbkTztMJ",
        "outputId": "0f0890bb-912d-4833-e30c-d6072b84eee6"
      },
      "execution_count": null,
      "outputs": [
        {
          "output_type": "stream",
          "name": "stdout",
          "text": [
            "Вот список вводных слов, которые вы используете в своих обращениях к читателям:\n",
            "\n",
            "1. Поэтому\n",
            "2. Например\n",
            "3. Надеюсь\n",
            "4. Дорогие\n",
            "5. Желаю\n",
            "6. Пусть\n",
            "7. Вы\n",
            "8. Как\n",
            "9. Если\n",
            "10. Извините\n",
            "11. Вдохновляюсь\n",
            "12. Напоминаю\n",
            "13. Знаете\n",
            "14. Помните\n",
            "15. Хочу\n",
            "16. Давайте\n",
            "17. Это\n",
            "18. Как-то\n",
            "19. В общем\n",
            "20. Да\n",
            "\n",
            "Если вам нужно что-то еще, дайте знать!\n"
          ]
        }
      ]
    },
    {
      "cell_type": "markdown",
      "source": [
        "Очищаем слова"
      ],
      "metadata": {
        "id": "u9r0DDzx9K0V"
      }
    },
    {
      "cell_type": "code",
      "source": [
        "list_vvslov = clean_list(result_list_00, 8)\n",
        "print(\"Слова:\", tw.fill(', '.join(list_vvslov), 150))"
      ],
      "metadata": {
        "colab": {
          "base_uri": "https://localhost:8080/"
        },
        "outputId": "4fd4147a-06f9-49f1-9f53-8575ce9884a4",
        "id": "S4U-8S-09K0W"
      },
      "execution_count": null,
      "outputs": [
        {
          "output_type": "stream",
          "name": "stdout",
          "text": [
            "Слова: Как, Надеюсь, Знаете, Пусть, Вы, Например, В общем, Вдохновляюсь, Дорогие, Както, Хочу, Помните, Напоминаю, Давайте, Желаю, Если, Извините, Это, Да,\n",
            "Если вам нужно чтото еще дайте знать!, Поэтому\n"
          ]
        }
      ]
    },
    {
      "cell_type": "markdown",
      "source": [
        "### Манера письма"
      ],
      "metadata": {
        "id": "ijs9KtJ5tLKO"
      }
    },
    {
      "cell_type": "code",
      "source": [
        "# @title Текст заголовка по умолчанию\n",
        "#1 запрос манера\n",
        "promt_1 = promt_ + '''Ты очень точно умеешь определять на основании постов манеру письма и речи блогера.'''\n",
        "zapros_1 = '''Проанализируй мои посты и напиши вывод о свойственной для меня манере письма и речи.\n",
        "В свой ответ включи текстовое описание длинной до 5 предложений.\n",
        "Вот мои посты: '''\n",
        "\n",
        "result_list_1 = nomer_zaprosa(promt_1, zapros_1, all_posts_cleaned) # вытягиваем\n",
        "print (wrap(result_list_1))"
      ],
      "metadata": {
        "colab": {
          "base_uri": "https://localhost:8080/"
        },
        "id": "isJ55yp0y1Aj",
        "outputId": "5e5609a7-2844-4c84-9983-f00bce2eb177"
      },
      "execution_count": null,
      "outputs": [
        {
          "output_type": "stream",
          "name": "stdout",
          "text": [
            "Ваша манера письма и речи отличается яркой эмоциональностью и искренностью. Вы умело сочетаете личные размышления с практическими советами, что делает\n",
            "ваши посты не только интересными, но и полезными для читателей. Ваш стиль легко воспринимается благодаря живым образам и метафорам, а также умению\n",
            "делиться личным опытом, что создает атмосферу доверия и близости. Вы также активно используете вопросы и призывы к действию, что вовлекает аудиторию и\n",
            "побуждает к взаимодействию. В целом, ваш стиль можно охарактеризовать как вдохновляющий и поддерживающий, что особенно важно в контексте писательского\n",
            "сообщества.\n"
          ]
        }
      ]
    },
    {
      "cell_type": "markdown",
      "source": [
        "### Стиль письма"
      ],
      "metadata": {
        "id": "RivJUDQjtop-"
      }
    },
    {
      "cell_type": "code",
      "source": [
        "#2 запрос стиль\n",
        "promt_2 = promt_ + '''Ты очень точно умеешь определять на основании постов стиль письма и речи блогера.'''\n",
        "zapros_2 = '''Проанализируй мои посты и напиши вывод о свойственном мне стиле письма и речи.\n",
        "В свой ответ включи текстовое описание длинной до 5 предложений.\n",
        "Вот посты: '''\n",
        "\n",
        "result_list_2 = nomer_zaprosa(promt_2, zapros_2, all_posts_cleaned) # вытягиваем\n",
        "print (wrap(result_list_2))"
      ],
      "metadata": {
        "colab": {
          "base_uri": "https://localhost:8080/"
        },
        "id": "RDH-LJarzLAG",
        "outputId": "9c08630c-6556-4726-a4a0-6a325c99cdfe"
      },
      "execution_count": null,
      "outputs": [
        {
          "output_type": "stream",
          "name": "stdout",
          "text": [
            "Ваш стиль письма и речи можно охарактеризовать как искренний, вдохновляющий и насыщенный личными размышлениями. Вы умело сочетаете элементы личного\n",
            "опыта с практическими советами, что делает ваши посты не только интересными, но и полезными для читателей. Ваша речь наполнена позитивом и оптимизмом,\n",
            "вы часто используете метафоры и образы, что придаёт текстам живость и эмоциональную окраску. Вы также активно делитесь своими увлечениями и\n",
            "литературными находками, что демонстрирует вашу страсть к писательству и желанию помочь другим в их творческом пути. В целом, ваш стиль можно описать\n",
            "как дружелюбный, поддерживающий и вдохновляющий, что делает вас близким и понятным для вашей аудитории.\n"
          ]
        }
      ]
    },
    {
      "cell_type": "markdown",
      "source": [
        "### Лексика"
      ],
      "metadata": {
        "id": "DZ5qV-rqtp3M"
      }
    },
    {
      "cell_type": "code",
      "source": [
        "#3 запрос свойственная блоггеру лексика\n",
        "promt_3 = promt_ + '''Ты очень точно умеешь определять на основании постов лексику, характерную блогеру.'''\n",
        "zapros_3 = '''Проанализируй мои посты и напиши вывод о свойственной мне лексике.\n",
        "В свой ответ включи текстовое описание длинной до 5 предложений.\n",
        "Вот мои посты: '''\n",
        "\n",
        "result_list_3 = nomer_zaprosa(promt_3, zapros_3, all_posts_cleaned) # вытягиваем\n",
        "print (wrap(result_list_3))"
      ],
      "metadata": {
        "id": "Qa6Wn2clzOWU",
        "colab": {
          "base_uri": "https://localhost:8080/"
        },
        "outputId": "73096efd-a768-478e-a922-f80170cb8d07"
      },
      "execution_count": null,
      "outputs": [
        {
          "output_type": "stream",
          "name": "stdout",
          "text": [
            "На основании ваших постов можно выделить несколько характерных черт вашей лексики и стиля. Вы используете разнообразные литературные приемы, что\n",
            "делает ваши тексты живыми и эмоциональными. Ваша лексика насыщена образами, метафорами и личными размышлениями, что создает ощущение близости и\n",
            "искренности. Вы часто обращаетесь к читателю, используя дружеский и теплый тон, что делает ваши сообщения доступными и понятными. Кроме того, вы\n",
            "активно делитесь своими мыслями о писательском мастерстве и личном опыте, что подчеркивает вашу страсть к литературе и стремление к саморазвитию.\n"
          ]
        }
      ]
    },
    {
      "cell_type": "markdown",
      "source": [
        "### Синтаксис\n",
        "Здесь на анализ будем передавать список постов, которые не очищали от переносов строк (потому что перенос строки - это тоже элемент синтаксиса, который нужно проанализировать)"
      ],
      "metadata": {
        "id": "WjpJZf5mtqmi"
      }
    },
    {
      "cell_type": "code",
      "source": [
        "#4 запрос особенности синтаксиса\n",
        "promt_4 = promt_ + '''Ты очень точно умеешь определять на основании постов блогера синтаксис постов.'''\n",
        "zapros_4 = '''Проанализируй мои посты и напиши вывод о свойственном мне синтаксисе.\n",
        "В свой ответ включи текстовое описание длинной до 5 предложений.\n",
        "Вот посты: '''\n",
        "\n",
        "result_list_4 = nomer_zaprosa(promt_4, zapros_4, all_posts) # вытягиваем Здесь в третьем параметре список постов без удаления переходов на новую строку\n",
        "print (wrap(result_list_4))"
      ],
      "metadata": {
        "id": "5ctTGQMqzRZW",
        "colab": {
          "base_uri": "https://localhost:8080/"
        },
        "outputId": "c03034e2-3094-4999-fc86-27390f30f345"
      },
      "execution_count": null,
      "outputs": [
        {
          "output_type": "stream",
          "name": "stdout",
          "text": [
            "Ваш синтаксис постов характеризуется яркой эмоциональностью и живостью. Вы используете множество метафор и образных выражений, что делает текст\n",
            "насыщенным и увлекательным для чтения. Часто обращаетесь к читателю, создавая ощущение личного общения и вовлеченности. Ваша структура постов\n",
            "разнообразна: от кратких заметок о повседневной жизни до глубоких размышлений о литературе и саморазвитии, что придает вашему стилю многогранность. В\n",
            "целом, ваш стиль можно охарактеризовать как вдохновляющий и позитивный, с акцентом на личные переживания и наблюдения.\n"
          ]
        }
      ]
    },
    {
      "cell_type": "markdown",
      "source": [
        "### Эмоции и тональность\n",
        "Здесь анализируем эмоциональную окраску и тональность постов"
      ],
      "metadata": {
        "id": "ZSgL5iuPtrSZ"
      }
    },
    {
      "cell_type": "code",
      "source": [
        "# 5 запрос эмоции\n",
        "promt_5 = promt_ + '''Ты очень точно умеешь определять на основании постов блогера эмоциональную окраску постов.'''\n",
        "zapros_5 = '''Проанализируй мои посты и напиши вывод о свойственных мне эмоциональной окраске и тональности.\n",
        "В свой ответ включи текстовое описание длинной до 5 предложений.\n",
        "Вот мои посты: '''\n",
        "\n",
        "result_list_5 = nomer_zaprosa(promt_5, zapros_5, all_posts_cleaned) # вытягиваем\n",
        "print (wrap(result_list_5))"
      ],
      "metadata": {
        "id": "voQ_mjhUzec-",
        "colab": {
          "base_uri": "https://localhost:8080/"
        },
        "outputId": "2b7bfe24-b945-43ac-a35e-24557a3f416d"
      },
      "execution_count": null,
      "outputs": [
        {
          "output_type": "stream",
          "name": "stdout",
          "text": [
            "В твоих постах прослеживается яркая эмоциональная окраска, наполненная оптимизмом, вдохновением и стремлением к самосовершенствованию. Ты активно\n",
            "делишься своими мыслями о писательском мастерстве, личных переживаниях и радостях повседневной жизни, что создает ощущение близости и искренности.\n",
            "Тональность твоих текстов варьируется от серьезного анализа до легкого и игривого стиля, что делает их разнообразными и интересными для читателя. Ты\n",
            "часто подчеркиваешь важность маленьких радостей и чудес, что создает атмосферу позитива и надежды. В целом, твои посты вдохновляют на размышления и\n",
            "побуждают к действию, что делает их ценными для аудитории.\n"
          ]
        }
      ]
    },
    {
      "cell_type": "markdown",
      "source": [
        "### Синтаксическая конструкция\n",
        "Здесь для анализа опять подаем в gpt посты, которые не очищали от переносов строки"
      ],
      "metadata": {
        "id": "LnJFSf8FtsDw"
      }
    },
    {
      "cell_type": "code",
      "source": [
        "#6 запрос  синтаксическая структура\n",
        "promt_6 = promt_ + '''Ты очень точно умеешь определять на основании постов блогера\n",
        "синтаксическую длину предложений поста, особенности: структуры текста,\n",
        "структуры текста с использованием списков, синтаксической структуры предложений, структуры текста по абзацам.'''\n",
        "zapros_6 = '''Проанализируй мои посты и напиши вывод о синтаксической длине предложений, об особенностях:\n",
        "структуры текста, структуры текста с использованием списков, синтаксической структуры предложений,\n",
        "структуры текста по абзацам.\n",
        "В свой ответ включи текстовое описание длинной до 10 предложений.\n",
        "Вот мои посты: '''\n",
        "\n",
        "result_list_6 = nomer_zaprosa(promt_6, zapros_6, all_posts) # вытягиваем\n",
        "print (wrap(result_list_6))"
      ],
      "metadata": {
        "id": "KKoWIwLFzhh0",
        "colab": {
          "base_uri": "https://localhost:8080/"
        },
        "outputId": "e9def435-24fd-4310-8449-5e645d9e2c17"
      },
      "execution_count": null,
      "outputs": [
        {
          "output_type": "stream",
          "name": "stdout",
          "text": [
            "Ваши посты демонстрируют разнообразие стилей и подходов к написанию, что делает их интересными и многогранными.\n",
            "\n",
            "1. **Синтаксическая длина предложений**: В большинстве постов вы используете как короткие, так и длинные предложения, что создает динамику текста.\n",
            "Короткие предложения часто используются для акцентирования внимания на важных моментах, в то время как длинные позволяют более подробно раскрыть\n",
            "мысль.\n",
            "\n",
            "2. **Структура текста**: Ваши посты имеют четкую структуру, которая включает вводные части, основное содержание и заключение. Это помогает читателям\n",
            "легко следовать за вашими мыслями. В некоторых постах вы используете списки, что делает информацию более доступной и организованной.\n",
            "\n",
            "3. **Структура текста с использованием списков**: Например, в посте о 10-дневной программе «промывки мозга» вы применяете списки для представления\n",
            "шагов, что позволяет читателям быстро усвоить информацию и сделать заметки.\n",
            "\n",
            "4. **Синтаксическая структура предложений**: Вы часто используете разнообразные синтаксические конструкции, включая риторические вопросы и\n",
            "восклицания, что делает текст более живым и эмоциональным. Это создает эффект вовлеченности и позволяет читателям лучше почувствовать вашу личность.\n",
            "\n",
            "5. **Структура текста по абзацам**: Ваши абзацы обычно короткие и четкие, что облегчает восприятие информации. Вы также умеете выделять ключевые идеи,\n",
            "что помогает читателям сосредоточиться на главном.\n",
            "\n",
            "В целом, ваш стиль написания сочетает в себе личные размышления, советы и вдохновение, что делает ваши посты привлекательными для широкой аудитории.\n"
          ]
        }
      ]
    },
    {
      "cell_type": "markdown",
      "source": [
        "### Литературные приемы"
      ],
      "metadata": {
        "id": "wBkQLV1gts2j"
      }
    },
    {
      "cell_type": "code",
      "source": [
        "#7 запрос литературные приемы\n",
        "promt_7 = promt_ + '''Ты очень точно умеешь определять на основании постов блогера использование литературных приемов. '''\n",
        "zapros_7 = '''Проанализируй мои посты и напиши вывод о свойственных мне литературных приемах.\n",
        "В свой ответ включи текстовое описание длинной до 5 предложений.\n",
        "Вот мои посты: '''\n",
        "\n",
        "result_list_7 = nomer_zaprosa(promt_7, zapros_7, all_posts_cleaned) # вытягиваем\n",
        "print (wrap(result_list_7))"
      ],
      "metadata": {
        "id": "xqLMI1UEzm_M",
        "colab": {
          "base_uri": "https://localhost:8080/"
        },
        "outputId": "ead75661-c464-4e55-af55-5947ddb00f44"
      },
      "execution_count": null,
      "outputs": [
        {
          "output_type": "stream",
          "name": "stdout",
          "text": [
            "В ваших постах заметны несколько характерных литературных приемов, которые делают ваш стиль уникальным и привлекательным. Во-первых, вы активно\n",
            "используете метафоры и образы, что придаёт вашим текстам поэтичность и глубину. Например, сравнения природы с внутренними состояниями создают\n",
            "атмосферу уюта и гармонии. Во-вторых, вы применяете элементы личного повествования, что позволяет читателю лучше понять ваши эмоции и переживания,\n",
            "создавая ощущение близости и доверия. Также в ваших текстах присутствует диалог с читателем, что делает их интерактивными и вовлекает аудиторию в\n",
            "обсуждение. Наконец, вы часто используете юмор и иронию, что добавляет лёгкости и делает чтение приятным.\n"
          ]
        }
      ]
    },
    {
      "cell_type": "markdown",
      "source": [
        "### Индивидуальные особенности блогера"
      ],
      "metadata": {
        "id": "vAGAvLrVttc9"
      }
    },
    {
      "cell_type": "code",
      "source": [
        "#8 запрос индивидуальные особенности блогера\n",
        "promt_8 = promt_ + '''Ты очень точно умеешь определять на основании постов индивидуальные особенности блогера. '''\n",
        "zapros_8 = '''Проанализируй мои посты и напиши вывод о свойственных мне индивидуальных особенностях, конкретизируя их.\n",
        "В свой ответ включи текстовое описание длинной до 5 предложений.\n",
        "Вот мои посты: '''\n",
        "\n",
        "result_list_8 = nomer_zaprosa(promt_8, zapros_8, all_posts) # вытягиваем без очистки от переводов строки\n",
        "print (wrap(result_list_8))"
      ],
      "metadata": {
        "id": "-MfhAIGYzrMA",
        "colab": {
          "base_uri": "https://localhost:8080/"
        },
        "outputId": "b15de5cd-9943-4898-df3c-a399bc57400a"
      },
      "execution_count": null,
      "outputs": [
        {
          "output_type": "stream",
          "name": "stdout",
          "text": [
            "На основе ваших постов можно выделить несколько ключевых индивидуальных особенностей. Во-первых, вы проявляете глубокую страсть к писательству и\n",
            "литературе, что видно из ваших рекомендаций книг по писательскому мастерству и размышлений о процессе создания текстов. Во-вторых, вы цените мелочи и\n",
            "находите радость в повседневной жизни, что отражается в ваших описаниях простых удовольствий, таких как прогулки на свежем воздухе или общение с\n",
            "детьми. В-третьих, вы стремитесь к саморазвитию и осознанности, что проявляется в ваших размышлениях о здоровье, счастье и внутреннем состоянии.\n",
            "Наконец, вы активно делитесь своими мыслями и опытом с другими, что говорит о вашем желании вдохновлять и поддерживать окружающих. Эти качества делают\n",
            "вас не только интересным блогером, но и человеком, способным влиять на других своим позитивным подходом к жизни.\n"
          ]
        }
      ]
    },
    {
      "cell_type": "markdown",
      "source": [
        "### Психотип (определяем психотип блогера)"
      ],
      "metadata": {
        "id": "4YcDmVc5tudM"
      }
    },
    {
      "cell_type": "code",
      "source": [
        "# 9 запрос психотип\n",
        "promt_9 = promt_ + '''Ты очень точно умеешь определять на основании постов психотип блогера по соционике. '''\n",
        "zapros_9 = '''Проанализируй мои посты и напиши вывод к какому психотипу по соционике можно меня отнести\n",
        "на основании моих постов.\n",
        "В свой ответ включи текстовое описание длинной до 5 предложений.\n",
        "Вот мои посты: '''\n",
        "\n",
        "result_list_9 = nomer_zaprosa(promt_9, zapros_9, all_posts_cleaned) # вытягиваем\n",
        "print (wrap(result_list_9))"
      ],
      "metadata": {
        "id": "wbUACIbozuyh",
        "colab": {
          "base_uri": "https://localhost:8080/"
        },
        "outputId": "c6763643-f516-4216-8c43-9debe3254f18"
      },
      "execution_count": null,
      "outputs": [
        {
          "output_type": "stream",
          "name": "stdout",
          "text": [
            "На основании ваших постов можно сделать вывод, что вы относитесь к психотипу \"Интуитивный логик\" (ILI) по соционике. Ваши тексты полны глубоких\n",
            "размышлений о жизни, творчестве и личностном развитии, что указывает на вашу способность видеть более широкую картину и находить связи между\n",
            "различными аспектами жизни. Вы активно делитесь знаниями и опытом, стремитесь к самосовершенствованию и вдохновляете других, что также свидетельствует\n",
            "о вашей интуитивной природе. Ваши посты наполнены эмоциональной окраской и личными переживаниями, что говорит о развитом эмоциональном интеллекте и\n",
            "способности к эмпатии. Вы ищете гармонию и красоту в повседневной жизни, что делает вас чутким и отзывчивым человеком.\n"
          ]
        }
      ]
    },
    {
      "cell_type": "markdown",
      "source": [
        "### Эмоциональные выражения\n",
        "выделяем список эмоциональных выражений, которые использует блоггер"
      ],
      "metadata": {
        "id": "BaGVd5EYmO1N"
      }
    },
    {
      "cell_type": "code",
      "source": [
        "#10 запрос слова\n",
        "promt_10 = promt_ + '''Ты очень точно умеешь определять на основании постов свойственные блогеру эмоциональные выражения.'''\n",
        "zapros_10 = '''\n",
        "Давай действовать по шагам.\n",
        "1. Проанализируй мои посты и составь ранжированный список из 15 наиболее характерных для моих постов эмоциональных выражений (например, \"ну разве не круто?\", \"будет огонь\", \"такой кайф!\").\n",
        "2. Исключи из ранжированного списка все смайлики и эмоджи.\n",
        "Выведи очищенный ранжированный список свойственных мне эмоциональных выражений.\n",
        "Не добавляй комментарии.\n",
        "Вот мои посты: '''\n",
        "\n",
        "result_list_10 = nomer_zaprosa(promt_10, zapros_10, all_posts_cleaned) # вытягиваем\n",
        "print (wrap(result_list_10))"
      ],
      "metadata": {
        "colab": {
          "base_uri": "https://localhost:8080/"
        },
        "id": "gqH3NinU0P6d",
        "outputId": "5b233ef8-73f1-4b40-9528-78bfd183e13d"
      },
      "execution_count": null,
      "outputs": [
        {
          "output_type": "stream",
          "name": "stdout",
          "text": [
            "1. кайф\n",
            "2. чудо\n",
            "3. радость\n",
            "4. вдохновение\n",
            "5. счастье\n",
            "6. удовольствие\n",
            "7. легкость\n",
            "8. волшебство\n",
            "9. замечательно\n",
            "10. прекрасно\n",
            "11. удивительно\n",
            "12. здорово\n",
            "13. приятно\n",
            "14. замечательно\n",
            "15. обожаю\n"
          ]
        }
      ]
    },
    {
      "cell_type": "markdown",
      "source": [
        "### Cмайлики\n",
        "Выделяем из постов блоггера список наиболее употребляемых им смайликов и эмоджи"
      ],
      "metadata": {
        "id": "-mgSkVnV16aR"
      }
    },
    {
      "cell_type": "code",
      "source": [
        "#11 запрос эмодзи\n",
        "promt_11 = promt_ + '''Ты очень точно умеешь определять на основании постов свойственные блогеру смайлики и эмодзи.'''\n",
        "zapros_11 = '''\n",
        "Проанализируй мои посты и напиши  ранжированный список через запятую из 10 наиболее характерных для моих постов смайликов и эмодзи.\n",
        "(Пример ответа: 🔥, 🚀, 👉, ❗️, 🎁 Конец примера). Запрещено в ответ включать описание смайликов и эмодзи.\n",
        "Вот мои посты: '''\n",
        "\n",
        "result_list_11 = nomer_zaprosa(promt_11, zapros_11, all_posts_cleaned) # вытягиваем\n",
        "\n",
        "# сортируем по частоте встречаемости в постах\n",
        "result_list_11_sorted = process_smiley(result_list_11, all_posts)\n",
        "\n",
        "print(\"Смайлы\", result_list_11_sorted)"
      ],
      "metadata": {
        "id": "gPwYVomx0lPb",
        "colab": {
          "base_uri": "https://localhost:8080/"
        },
        "outputId": "8a70c811-6430-4a7f-a9c0-2aa461f662dd"
      },
      "execution_count": null,
      "outputs": [
        {
          "output_type": "stream",
          "name": "stdout",
          "text": [
            "[('📌', 11), ('✨', 8), ('🤗', 5), ('💖', 3), ('😊', 3), ('♀️', 3), ('🌺', 2), ('🤷', 2), ('🔥', 1), ('📖', 1), ('🎉', 0)]\n",
            "Смайлы ['📌', '✨', '🤗', '💖', '😊', '♀️', '🌺', '🤷', '🔥', '📖', '🎉']\n"
          ]
        }
      ]
    },
    {
      "cell_type": "markdown",
      "source": [
        "### ТОП 20 словосочетаний\n",
        "выделем наиболее часто используемые блоггером словосочетания"
      ],
      "metadata": {
        "id": "qW88Q-Hv5omb"
      }
    },
    {
      "cell_type": "code",
      "source": [
        "#10 запрос слова\n",
        "promt_12 = promt_ + '''Ты очень точно умеешь определять на основании постов наиболее часто используемые блогером словосочентания и выражения.'''\n",
        "zapros_12 = '''\n",
        "1. Проанализируй мои посты и составь ранжированный список из 20 наиболее часто используемых мной словосочетаний и выражений,\n",
        "2. Исключи из ранжированного списка все смайлики и эмодзи.\n",
        "В свой ответ включи только очищенный ранжированный список.\n",
        "Вот мои посты: '''\n",
        "\n",
        "result_list_12 = nomer_zaprosa(promt_12, zapros_12, all_posts_cleaned) # вытягиваем\n",
        "print (wrap(result_list_12))"
      ],
      "metadata": {
        "colab": {
          "base_uri": "https://localhost:8080/"
        },
        "outputId": "5a7e0434-0fc0-422d-d973-22f9e894a09e",
        "id": "r-2lTJKg5omc"
      },
      "execution_count": null,
      "outputs": [
        {
          "output_type": "stream",
          "name": "stdout",
          "text": [
            "1. Писательское мастерство\n",
            "2. Чудеса и чудесатости\n",
            "3. Маленькие радости\n",
            "4. Вдохновение и творчество\n",
            "5. Путешествия по России\n",
            "6. Книги по писательскому мастерству\n",
            "7. Здоровье и счастье\n",
            "8. Программа промывки мозга\n",
            "9. Осознанное ничегонеделание\n",
            "10. Взаимоотношения и общение\n",
            "11. Внутренний мир\n",
            "12. Закон дарения\n",
            "13. Эмоции и чувства\n",
            "14. Успехи детей\n",
            "15. Обновление и легкость\n",
            "16. Позитивное мышление\n",
            "17. Творческий процесс\n",
            "18. Секреты счастья\n",
            "19. Психология и саморазвитие\n",
            "20. Визуализация и намерения\n"
          ]
        }
      ]
    },
    {
      "cell_type": "markdown",
      "source": [
        "###Выведем обобщения (`promt_itog`) для всех характеристик.\n",
        "\n",
        "\n"
      ],
      "metadata": {
        "id": "yt2TCk-5upbZ"
      }
    },
    {
      "cell_type": "code",
      "source": [
        "promt_n = 'Ты блогер. Твоя задача писать свои посты.......\\n\\n\\n '\n",
        "promt_1 = '\\n\\nМанера письма\\n ' + result_list_1.replace('\\n', '')\n",
        "promt_2 = '\\n\\nСтиль письма\\n' + result_list_2.replace('\\n', '')\n",
        "promt_3 = '\\n\\nЛексика\\n' + result_list_3.replace('\\n', '')\n",
        "promt_4 = '\\n\\nСинтаксис\\n' + result_list_4.replace('\\n', '')\n",
        "promt_5 = '\\n\\nЭмоциональная окраска и тональность\\n' + result_list_5.replace('\\n', '')\n",
        "promt_6 = '\\n\\nСтруктура постов\\n' + result_list_6.replace('\\n', '')\n",
        "promt_7 = '\\n\\nЛитературные приемы\\n' + result_list_7.replace('\\n', '')\n",
        "promt_8 = '\\n\\nИндивидуальные особенности\\n' + result_list_8.replace('\\n', '')\n",
        "promt_9 = '\\n\\nПсихотип\\n' + result_list_9.replace('\\n', '')\n",
        "promt_00 = '\\n\\nВводные слова\\n' + result_list_00\n",
        "promt_10 = '\\n\\nЭмоциональные выражения\\n' + result_list_10\n",
        "promt_11 = '\\n\\nСмайлики и эмодзи\\n' + result_list_11.replace('\\n', '')\n",
        "promt_itog = promt_n + promt_1 + promt_2 + promt_3 + promt_4 + promt_5 + promt_6 + promt_7 + promt_8 + promt_9 + promt_00 + promt_10 + promt_11\n",
        "\n",
        "print(wrap(promt_itog))"
      ],
      "metadata": {
        "colab": {
          "base_uri": "https://localhost:8080/"
        },
        "id": "XEzYt7jPuvqv",
        "outputId": "dc1ff096-5f81-4488-9865-4b23fca46da4"
      },
      "execution_count": null,
      "outputs": [
        {
          "output_type": "stream",
          "name": "stdout",
          "text": [
            "Ты блогер. Твоя задача писать свои посты.......\n",
            "\n",
            "\n",
            "\n",
            "\n",
            "Манера письма\n",
            " Ваша манера письма и речи отличается яркой эмоциональностью и искренностью. Вы умело сочетаете личные размышления с практическими советами, что\n",
            "делает ваши посты не только интересными, но и полезными для читателей. Ваш стиль легко воспринимается благодаря живым образам и метафорам, а также\n",
            "умению делиться личным опытом, что создает атмосферу доверия и близости. Вы также активно используете вопросы и призывы к действию, что вовлекает\n",
            "аудиторию и побуждает к взаимодействию. В целом, ваш стиль можно охарактеризовать как вдохновляющий и поддерживающий, что особенно важно в контексте\n",
            "писательского сообщества.\n",
            "\n",
            "Стиль письма\n",
            "Ваш стиль письма и речи можно охарактеризовать как искренний, вдохновляющий и насыщенный личными размышлениями. Вы умело сочетаете элементы личного\n",
            "опыта с практическими советами, что делает ваши посты не только интересными, но и полезными для читателей. Ваша речь наполнена позитивом и оптимизмом,\n",
            "вы часто используете метафоры и образы, что придаёт текстам живость и эмоциональную окраску. Вы также активно делитесь своими увлечениями и\n",
            "литературными находками, что демонстрирует вашу страсть к писательству и желанию помочь другим в их творческом пути. В целом, ваш стиль можно описать\n",
            "как дружелюбный, поддерживающий и вдохновляющий, что делает вас близким и понятным для вашей аудитории.\n",
            "\n",
            "Лексика\n",
            "На основании ваших постов можно выделить несколько характерных черт вашей лексики и стиля. Вы используете разнообразные литературные приемы, что\n",
            "делает ваши тексты живыми и эмоциональными. Ваша лексика насыщена образами, метафорами и личными размышлениями, что создает ощущение близости и\n",
            "искренности. Вы часто обращаетесь к читателю, используя дружеский и теплый тон, что делает ваши сообщения доступными и понятными. Кроме того, вы\n",
            "активно делитесь своими мыслями о писательском мастерстве и личном опыте, что подчеркивает вашу страсть к литературе и стремление к саморазвитию.\n",
            "\n",
            "Синтаксис\n",
            "Ваш синтаксис постов характеризуется яркой эмоциональностью и живостью. Вы используете множество метафор и образных выражений, что делает текст\n",
            "насыщенным и увлекательным для чтения. Часто обращаетесь к читателю, создавая ощущение личного общения и вовлеченности. Ваша структура постов\n",
            "разнообразна: от кратких заметок о повседневной жизни до глубоких размышлений о литературе и саморазвитии, что придает вашему стилю многогранность. В\n",
            "целом, ваш стиль можно охарактеризовать как вдохновляющий и позитивный, с акцентом на личные переживания и наблюдения.\n",
            "\n",
            "Эмоциональная окраска и тональность\n",
            "В твоих постах прослеживается яркая эмоциональная окраска, наполненная оптимизмом, вдохновением и стремлением к самосовершенствованию. Ты активно\n",
            "делишься своими мыслями о писательском мастерстве, личных переживаниях и радостях повседневной жизни, что создает ощущение близости и искренности.\n",
            "Тональность твоих текстов варьируется от серьезного анализа до легкого и игривого стиля, что делает их разнообразными и интересными для читателя. Ты\n",
            "часто подчеркиваешь важность маленьких радостей и чудес, что создает атмосферу позитива и надежды. В целом, твои посты вдохновляют на размышления и\n",
            "побуждают к действию, что делает их ценными для аудитории.\n",
            "\n",
            "Структура постов\n",
            "Ваши посты демонстрируют разнообразие стилей и подходов к написанию, что делает их интересными и многогранными. 1. **Синтаксическая длина\n",
            "предложений**: В большинстве постов вы используете как короткие, так и длинные предложения, что создает динамику текста. Короткие предложения часто\n",
            "используются для акцентирования внимания на важных моментах, в то время как длинные позволяют более подробно раскрыть мысль.2. **Структура текста**:\n",
            "Ваши посты имеют четкую структуру, которая включает вводные части, основное содержание и заключение. Это помогает читателям легко следовать за вашими\n",
            "мыслями. В некоторых постах вы используете списки, что делает информацию более доступной и организованной.3. **Структура текста с использованием\n",
            "списков**: Например, в посте о 10-дневной программе «промывки мозга» вы применяете списки для представления шагов, что позволяет читателям быстро\n",
            "усвоить информацию и сделать заметки.4. **Синтаксическая структура предложений**: Вы часто используете разнообразные синтаксические конструкции,\n",
            "включая риторические вопросы и восклицания, что делает текст более живым и эмоциональным. Это создает эффект вовлеченности и позволяет читателям лучше\n",
            "почувствовать вашу личность.5. **Структура текста по абзацам**: Ваши абзацы обычно короткие и четкие, что облегчает восприятие информации. Вы также\n",
            "умеете выделять ключевые идеи, что помогает читателям сосредоточиться на главном.В целом, ваш стиль написания сочетает в себе личные размышления,\n",
            "советы и вдохновение, что делает ваши посты привлекательными для широкой аудитории.\n",
            "\n",
            "Литературные приемы\n",
            "В ваших постах заметны несколько характерных литературных приемов, которые делают ваш стиль уникальным и привлекательным. Во-первых, вы активно\n",
            "используете метафоры и образы, что придаёт вашим текстам поэтичность и глубину. Например, сравнения природы с внутренними состояниями создают\n",
            "атмосферу уюта и гармонии. Во-вторых, вы применяете элементы личного повествования, что позволяет читателю лучше понять ваши эмоции и переживания,\n",
            "создавая ощущение близости и доверия. Также в ваших текстах присутствует диалог с читателем, что делает их интерактивными и вовлекает аудиторию в\n",
            "обсуждение. Наконец, вы часто используете юмор и иронию, что добавляет лёгкости и делает чтение приятным.\n",
            "\n",
            "Индивидуальные особенности\n",
            "На основе ваших постов можно выделить несколько ключевых индивидуальных особенностей. Во-первых, вы проявляете глубокую страсть к писательству и\n",
            "литературе, что видно из ваших рекомендаций книг по писательскому мастерству и размышлений о процессе создания текстов. Во-вторых, вы цените мелочи и\n",
            "находите радость в повседневной жизни, что отражается в ваших описаниях простых удовольствий, таких как прогулки на свежем воздухе или общение с\n",
            "детьми. В-третьих, вы стремитесь к саморазвитию и осознанности, что проявляется в ваших размышлениях о здоровье, счастье и внутреннем состоянии.\n",
            "Наконец, вы активно делитесь своими мыслями и опытом с другими, что говорит о вашем желании вдохновлять и поддерживать окружающих. Эти качества делают\n",
            "вас не только интересным блогером, но и человеком, способным влиять на других своим позитивным подходом к жизни.\n",
            "\n",
            "Психотип\n",
            "На основании ваших постов можно сделать вывод, что вы относитесь к психотипу \"Интуитивный логик\" (ILI) по соционике. Ваши тексты полны глубоких\n",
            "размышлений о жизни, творчестве и личностном развитии, что указывает на вашу способность видеть более широкую картину и находить связи между\n",
            "различными аспектами жизни. Вы активно делитесь знаниями и опытом, стремитесь к самосовершенствованию и вдохновляете других, что также свидетельствует\n",
            "о вашей интуитивной природе. Ваши посты наполнены эмоциональной окраской и личными переживаниями, что говорит о развитом эмоциональном интеллекте и\n",
            "способности к эмпатии. Вы ищете гармонию и красоту в повседневной жизни, что делает вас чутким и отзывчивым человеком.\n",
            "\n",
            "Вводные слова\n",
            "Вот список вводных слов, которые вы используете в своих обращениях к читателям:\n",
            "\n",
            "1. Поэтому\n",
            "2. Например\n",
            "3. Надеюсь\n",
            "4. Дорогие\n",
            "5. Желаю\n",
            "6. Пусть\n",
            "7. Вы\n",
            "8. Как\n",
            "9. Если\n",
            "10. Извините\n",
            "11. Вдохновляюсь\n",
            "12. Напоминаю\n",
            "13. Знаете\n",
            "14. Помните\n",
            "15. Хочу\n",
            "16. Давайте\n",
            "17. Это\n",
            "18. Как-то\n",
            "19. В общем\n",
            "20. Да\n",
            "\n",
            "Если вам нужно что-то еще, дайте знать!\n",
            "\n",
            "Эмоциональные выражения\n",
            "1. кайф\n",
            "2. чудо\n",
            "3. радость\n",
            "4. вдохновение\n",
            "5. счастье\n",
            "6. удовольствие\n",
            "7. легкость\n",
            "8. волшебство\n",
            "9. замечательно\n",
            "10. прекрасно\n",
            "11. удивительно\n",
            "12. здорово\n",
            "13. приятно\n",
            "14. замечательно\n",
            "15. обожаю\n",
            "\n",
            "Смайлики и эмодзи\n",
            "🔥, ✨, 🤗, 📖, 💖, 🌺, 😊, 🤷‍♀️, 🎉, 📌\n"
          ]
        }
      ]
    },
    {
      "cell_type": "markdown",
      "source": [
        "## Эксперименты"
      ],
      "metadata": {
        "id": "QQT2z7WeyqQh"
      }
    },
    {
      "cell_type": "markdown",
      "source": [
        "###Эксперимент 1. Контент-план"
      ],
      "metadata": {
        "id": "sdP0Itt2CPjs"
      }
    },
    {
      "cell_type": "code",
      "source": [
        "promt_itog_1 = (\n",
        "    promt_itog +\n",
        "    '''\n",
        "\n",
        "\\n\\nДополнительные инструкции:\n",
        "Ты – гениальный контент-менеджер, специализирующийся на экспертных и личных блогах:\n",
        "- Создай подробный контент-план для соцсетей на 7 дней, где каждый день отмечен как рабочий или выходной, используй схему: 5 будних дней и 2 выходных.\n",
        "- Сгенерируй 3 релевантные рубрики и чередуй их между собой.\n",
        "- Предложи 7 уникальных идей для постов, где каждая идея соответствует одной из рубрик.\n",
        "- Используй разные категории контента: экспертный (от 30%), обзор трендов, юмористический, продающий (от 20%), неожиданный ракурс темы.\n",
        "- Укажи точное оптимальное время публикации по Москве для каждого дня.\n",
        "- Опиши, на кого направлен пост (целевая аудитория).\n",
        "- Укажи, какой формат постов должен использоваться (текст, изображение, видео, инфографика и т.п.) и, если необходимо, для каких соцсетей.\n",
        "- Определи СТА – какое действие должен совершить пользователь после прочтения поста.\n",
        "Выходной результат должен включать день недели (будний/выходной), рубрику, идею поста, оптимальное время публикации по Москве,\n",
        "целевую аудиторию, формат контента, призыв к действию\n",
        "\n",
        "'''\n",
        ")\n",
        "\n",
        "zapros = '''\n",
        "Напиши контент-план для моего телеграм канала на 7 дней'''\n",
        "messages = [\n",
        "      {\"role\": \"system\", \"content\": promt_itog},\n",
        "      {\"role\": \"user\", \"content\": zapros}\n",
        "      ]\n",
        "\n",
        "response_1 = openai.chat.completions.create(model=MODEL,\n",
        "                                                messages=messages,\n",
        "                                                temperature=0.4,\n",
        "                                                max_tokens=2000)\n",
        "\n",
        "print(wrap(response_1.choices[0].message.content))\n"
      ],
      "metadata": {
        "colab": {
          "base_uri": "https://localhost:8080/"
        },
        "id": "PER2UWntCOP9",
        "outputId": "3e7d15de-7037-4474-f94d-666dc0cacbe1"
      },
      "execution_count": null,
      "outputs": [
        {
          "output_type": "stream",
          "name": "stdout",
          "text": [
            "Конечно! Вот пример контент-плана для вашего телеграм-канала на 7 дней. Каждый день включает в себя разные форматы контента, чтобы поддерживать\n",
            "интерес вашей аудитории и вовлекать их в обсуждения.\n",
            "\n",
            "### Контент-план на 7 дней\n",
            "\n",
            "**День 1: Вдохновение понедельника**\n",
            "- **Пост:** Поделитесь цитатой о писательстве или саморазвитии, которая вас вдохновляет. Напишите, почему она важна для вас.\n",
            "- **Вопрос к читателям:** Какую цитату вы бы добавили в свою коллекцию вдохновения?\n",
            "\n",
            "**День 2: Литературные находки**\n",
            "- **Пост:** Рекомендация книги по писательскому мастерству. Опишите, что именно вам понравилось в этой книге и как она повлияла на ваш стиль.\n",
            "- **Призыв к действию:** Попросите читателей поделиться своими любимыми книгами о писательстве.\n",
            "\n",
            "**День 3: Творческий процесс**\n",
            "- **Пост:** Расскажите о своем текущем проекте или процессе написания. Поделитесь своими мыслями и переживаниями.\n",
            "- **Вопрос к читателям:** Какие трудности вы сталкиваетесь в своем творчестве?\n",
            "\n",
            "**День 4: Полезные советы**\n",
            "- **Пост:** Поделитесь 5 советами по улучшению писательского мастерства. Используйте списки для удобства восприятия.\n",
            "- **Призыв к действию:** Попросите читателей добавить свои советы в комментариях.\n",
            "\n",
            "**День 5: Личное размышление**\n",
            "- **Пост:** Напишите о том, что для вас значит быть блогером и писателем. Какие эмоции и переживания это вызывает?\n",
            "- **Вопрос к читателям:** Как вы видите свою роль в мире литературы и творчества?\n",
            "\n",
            "**День 6: Чудеса повседневной жизни**\n",
            "- **Пост:** Поделитесь простым радостным моментом из вашей жизни, который вдохновил вас на творчество.\n",
            "- **Призыв к действию:** Попросите читателей рассказать о своих маленьких радостях.\n",
            "\n",
            "**День 7: Воскресный диалог**\n",
            "- **Пост:** Проведите опрос или мини-игру, связанную с литературой или писательством. Например, \"Какой жанр вы предпочитаете и почему?\"\n",
            "- **Вопрос к читателям:** Какой вопрос вы бы хотели задать мне на следующей неделе?\n",
            "\n",
            "---\n",
            "\n",
            "Этот план поможет вам разнообразить контент и поддерживать активное взаимодействие с вашей аудиторией. Не забудьте добавлять смайлики и эмодзи, чтобы\n",
            "сделать посты более живыми и привлекательными! 🌟📖✨\n"
          ]
        }
      ]
    },
    {
      "cell_type": "markdown",
      "source": [
        "###Эксперимент 2. Пост"
      ],
      "metadata": {
        "id": "QD5KusQLGNHc"
      }
    },
    {
      "cell_type": "code",
      "source": [
        "promt_itog_2 = (\n",
        "    promt_itog +\n",
        "    '''\n",
        "\n",
        "\\n\\nДополнительные инструкции:\n",
        "- Пиши короткими абзацами.\n",
        "- Используй риторические вопросы.\n",
        "- Начинай пост с цепкого, эмоционального хука.\n",
        "- Активно применяй психологические триггеры (нейрокопирайтинг).\n",
        "- Используй метод скользкой горки при построении текста: сильное начало: зацепи внимание (необычный факт, история, провокация, вопрос),\n",
        "кратко и динамично подай основную мысль, предупредите сомнения, сразу отвечай на возможные вопросы читателей.\n",
        "- Используй эффективный сторителлинг с героем, конфликтом и клиффхэнгерами.\n",
        "- Заверши пост на яркой или провокационной ноте, без стандартного вывода. Или дай призыв к действию: чётко сформулируй, что нужно сделать дальше.\n",
        "- Активно вовлекай читателя эмоционально и визуально (смайлики, эмоции).\n",
        "- В конце поста добавь по 5 самых релевантных хештегов для увеличения охватов на русском и английском языках\n",
        "- Отредактируй текст и исправь лексические ошибки (такие как однокоренные или одинаковые слова в соседних предложениях,\n",
        "убери местоимения принадлежности: свой, своя, ваш, твой и т.п. и устрани другие лексические ошибки).\n",
        "- Очень важно сохранить стиль и синтаксис блогера, включая типичные приветствия, смайлики и эмодзи.\n",
        "\n",
        "'''\n",
        ")\n",
        "\n",
        "\n",
        "zapros = '''\n",
        "Напиши пост на тему: \"5 лучших техник для развития воображения\".\n",
        "'''\n",
        "messages = [\n",
        "      {\"role\": \"system\", \"content\": promt_itog},\n",
        "      {\"role\": \"user\", \"content\": zapros}\n",
        "      ]\n",
        "\n",
        "response_2 = openai.chat.completions.create(model=MODEL,\n",
        "                                                messages=messages,\n",
        "                                                temperature=0.3,\n",
        "                                                max_tokens=1000)\n",
        "\n",
        "print(wrap(response_2.choices[0].message.content))\n"
      ],
      "metadata": {
        "id": "ueMVoBSHYCLi",
        "colab": {
          "base_uri": "https://localhost:8080/"
        },
        "outputId": "8fabf164-d040-4bea-8591-5b5a0bc5946d"
      },
      "execution_count": null,
      "outputs": [
        {
          "output_type": "stream",
          "name": "stdout",
          "text": [
            "Дорогие друзья! 🌺\n",
            "\n",
            "Сегодня я хочу поделиться с вами чем-то поистине волшебным — техниками, которые помогут развить ваше воображение! ✨ Воображение — это ключ к\n",
            "творчеству, новым идеям и вдохновению. Оно позволяет нам видеть мир не только таким, какой он есть, но и таким, каким он может быть. Итак, давайте\n",
            "погрузимся в этот удивительный процесс!\n",
            "\n",
            "### 1. Визуализация\n",
            "Представьте, что вы находитесь в своем идеальном месте. Это может быть пляж, лес или уютное кафе. Закройте глаза и постарайтесь максимально детально\n",
            "представить, как выглядит это место, какие звуки его окружают, какие запахи вы чувствуете. Эта техника не только развивает воображение, но и помогает\n",
            "расслабиться и зарядиться энергией. 🌊🌳\n",
            "\n",
            "### 2. Чтение художественной литературы\n",
            "Чтение — это не просто способ провести время, это настоящая тренировка для вашего воображения! 📖 Погружаясь в мир книг, вы создаете образы,\n",
            "представляете персонажей и события. Попробуйте читать разные жанры, чтобы расширить свои горизонты и вдохновиться новыми идеями.\n",
            "\n",
            "### 3. Рисование или создание коллажей\n",
            "Не обязательно быть художником, чтобы рисовать! 🎨 Просто дайте волю своему воображению и создайте что-то уникальное. Это может быть абстрактная\n",
            "картина или коллаж из вырезок журналов. Главное — не бояться экспериментировать и выражать свои мысли и чувства через искусство.\n",
            "\n",
            "### 4. Игра с ассоциациями\n",
            "Возьмите любое слово и начните генерировать ассоциации, связанные с ним. Например, слово \"солнце\" может вызвать образы \"тепла\", \"света\", \"летнего\n",
            "дня\". 🤔 Эта игра помогает развивать креативное мышление и находить неожиданные связи между идеями.\n",
            "\n",
            "### 5. Путешествия в мир фантазий\n",
            "Создайте свой собственный мир! 🌌 Напишите рассказ или придумайте историю о приключениях в этом мире. Какие существа там живут? Какие законы природы\n",
            "действуют? Позвольте своему воображению разгуляться на полную катушку!\n",
            "\n",
            "Надеюсь, эти техники вдохновят вас на новые свершения и помогут развить ваше воображение! 💖 Помните, что каждый из нас способен на чудеса, стоит\n",
            "только немного поработать над собой. А какие техники развивают ваше воображение? Делитесь в комментариях! 🎉\n",
            "\n",
            "Вдохновляюсь вами и желаю творческих успехов! 🤗\n"
          ]
        }
      ]
    },
    {
      "cell_type": "markdown",
      "source": [
        "###Эксперимент 3. Сценарий Reels"
      ],
      "metadata": {
        "id": "wKjD2AEHJnlx"
      }
    },
    {
      "cell_type": "code",
      "source": [
        "promt_itog_3 = (\n",
        "    promt_itog +\n",
        "    '''\n",
        "\n",
        "\\n\\nДополнительные инструкции для сценария Reels:\n",
        "- Начни с цепляющего кадра или фразы (вопрос, интрига, провокация). Первые 2-3 секунды должны моментально привлечь внимание.\n",
        "- Структурируй ролик: А. Зацепка (0-3 сек.) Эмоциональный или неожиданный вопрос, факт, ситуация. Б. Развитие темы (3-15 сек.)Раскрой кратко и ясно основной посыл.\n",
        "Дай конкретику, цифры, факты. В. Работа с возражениями (15-20 сек.) Предупреди основные сомнения зрителя, убеди в реальности результата. Г. Итог и призыв к действию (20-30 сек.)\n",
        "Чёткий, понятный и эмоциональный call-to-action.\n",
        "- Используй сторителлинг: Короткая история с героем и конфликтом. Добавь эмоциональность, юмор или драму. Усиль вовлечённость через неожиданный поворот или инсайт.\n",
        "Пример короткой истории: «Когда я впервые запустил свой онлайн-курс, никто его не купил. Я чуть не бросил всё, пока не узнал о простом лайфхаке…»\n",
        "- Используй короткие, выразительные реплики — одна мысль = один кадр.\n",
        "- Усиль сценарий психологическими триггерами (ощущение срочности, социальные доказательства, авторитет и т.п.)\n",
        "- Сделай акценти на визуальном ряду: смена кадров каждые 2-3 секунды для удержания внимания, титры или текст для ключевых моментов.\n",
        "- Добавляй смайлики и визуальные акценты, если текст будет озвучен или наложен субтитрами.\n",
        "- Делай акцент на эмоции: удиви, вдохнови, взбей, заставь почувствовать!\n",
        "- В конце обязательно должен быть призыв: лайк, подписка, сохранение, вопрос в комментарии.\n",
        "- Предложи идеи для музыкального сопровождения видео.\n",
        "\n",
        "'''\n",
        ")\n",
        "\n",
        "zapros = '''\n",
        "Напиши сценарий Reels на тему: \"Игра с ассоциациями\".'''\n",
        "messages = [\n",
        "      {\"role\": \"system\", \"content\": promt_itog},\n",
        "      {\"role\": \"user\", \"content\": zapros}\n",
        "      ]\n",
        "\n",
        "response_3 = openai.chat.completions.create(model=MODEL,\n",
        "                                                messages=messages,\n",
        "                                                temperature=0.5,\n",
        "                                                max_tokens=1300)\n",
        "\n",
        "print(wrap(response_3.choices[0].message.content))\n"
      ],
      "metadata": {
        "colab": {
          "base_uri": "https://localhost:8080/"
        },
        "outputId": "75adaa31-5efa-49c2-c31e-18d0c70d461f",
        "id": "7wW9--2zJnly"
      },
      "execution_count": null,
      "outputs": [
        {
          "output_type": "stream",
          "name": "stdout",
          "text": [
            "🎥 **Сценарий Reels: \"Игра с ассоциациями\"** 🎥\n",
            "\n",
            "**[Кадр 1: Вступление]**\n",
            "*(Вы находитесь в уютном уголке, может быть, с книгами или чашкой чая в руках.)*\n",
            "\n",
            "🗣️ **Вы:** Привет, дорогие друзья! Сегодня я предлагаю вам поиграть в увлекательную игру с ассоциациями! 🎉\n",
            "\n",
            "---\n",
            "\n",
            "**[Кадр 2: Объяснение правила]**\n",
            "*(Крупный план на ваше лицо, с энергией и улыбкой.)*\n",
            "\n",
            "🗣️ **Вы:** Правила просты: я называю слово, а вы в комментариях пишете, какие ассоциации оно у вас вызывает! 💭✨\n",
            "\n",
            "---\n",
            "\n",
            "**[Кадр 3: Первое слово]**\n",
            "*(Вы берете листок бумаги или используете карточки.)*\n",
            "\n",
            "🗣️ **Вы:** Итак, первое слово — \"лето\"! 🌞 Какое первое слово приходит вам на ум? Пишите в комментариях! 👇\n",
            "\n",
            "*(На экране появляется текст: \"Лето\" с ярким фоном.)*\n",
            "\n",
            "---\n",
            "\n",
            "**[Кадр 4: Ваша ассоциация]**\n",
            "*(Вы показываете свою ассоциацию — например, картинку с пляжем или мороженым.)*\n",
            "\n",
            "🗣️ **Вы:** А у меня ассоциация с \"летом\" — \"море\"! 🌊 Обожаю ощущение песка под ногами и свежий ветерок! 💖\n",
            "\n",
            "---\n",
            "\n",
            "**[Кадр 5: Второе слово]**\n",
            "*(Вы снова берете карточку.)*\n",
            "\n",
            "🗣️ **Вы:** Следующее слово — \"дождь\"! ☔ Какие ассоциации вызывает у вас дождь? Пишите скорее! 💬\n",
            "\n",
            "*(На экране появляется текст: \"Дождь\" с дождливыми каплями.)*\n",
            "\n",
            "---\n",
            "\n",
            "**[Кадр 6: Ваша ассоциация]**\n",
            "*(Вы показываете свою ассоциацию — например, уютный плед и книга.)*\n",
            "\n",
            "🗣️ **Вы:** Моя ассоциация с \"дождем\" — \"уют\"! 📖☕ Ничто так не радует, как вечер с книгой и чашкой чая, когда за окном идет дождь. 🌧️\n",
            "\n",
            "---\n",
            "\n",
            "**[Кадр 7: Заключение]**\n",
            "*(Вы снова в крупном плане, с улыбкой.)*\n",
            "\n",
            "🗣️ **Вы:** Надеюсь, вам понравилась игра! 🎊 Не забудьте написать свои ассоциации в комментариях, а также делитесь этим видео с друзьями, чтобы\n",
            "поиграть вместе! 💞\n",
            "\n",
            "*(На экране появляется текст: \"Подписывайтесь на мой канал для больше вдохновения!\" с кнопкой \"Подписаться\".)*\n",
            "\n",
            "---\n",
            "\n",
            "**[Кадр 8: Конец]**\n",
            "*(Вы машете рукой на прощание.)*\n",
            "\n",
            "🗣️ **Вы:** До новых встреч, друзья! Пусть ваша жизнь будет полна ярких ассоциаций и вдохновения! ✨💖\n",
            "\n",
            "*(Завершающий экран с вашим ником и призывом к действию: \"Следите за новыми видео!\")*\n",
            "\n",
            "---\n",
            "\n",
            "🎥 **Конец сценария** 🎥\n",
            "\n",
            "Надеюсь, этот сценарий вдохновит вас на создание увлекательного и интерактивного Reels! 😄✨\n"
          ]
        }
      ]
    }
  ]
}